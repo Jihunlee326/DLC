{
 "cells": [
  {
   "cell_type": "markdown",
   "metadata": {
    "slideshow": {
     "slide_type": "slide"
    }
   },
   "source": [
    "# 클러스터링 (Clustering)"
   ]
  },
  {
   "cell_type": "markdown",
   "metadata": {
    "slideshow": {
     "slide_type": "subslide"
    }
   },
   "source": [
    "## 클러스터 (Cluster)\n",
    "\n",
    "데이터 포인트들(data objects)의 모임\n",
    "\n",
    "- 같은 그룹(or cluster) 안에서는 서로 비슷하고\n",
    "- 서로 다른 그룹 사이에는 비슷하지 않다"
   ]
  },
  {
   "cell_type": "markdown",
   "metadata": {
    "slideshow": {
     "slide_type": "subslide"
    }
   },
   "source": [
    "## 클러스터링 (Clustering, cluster analysis, data segmentation)\n",
    "\n",
    "- 데이터 포인트들을 클러스터들로 나누는 것\n",
    "- 즉, 데이터셋에서 하위그룹(subgroup)을 찾는 것이다."
   ]
  },
  {
   "cell_type": "markdown",
   "metadata": {
    "slideshow": {
     "slide_type": "subslide"
    }
   },
   "source": [
    "## 분류 vs. 클러스터링\n",
    "\n",
    "- 클러스터링 : 비지도 학습 (unsupervised learning)\n",
    "- 분류 : 지도 학습 (supervised learning)"
   ]
  },
  {
   "cell_type": "markdown",
   "metadata": {
    "slideshow": {
     "slide_type": "subslide"
    }
   },
   "source": [
    "## 클러스터링은 언제 사용하나요\n",
    "\n",
    "- 데이터에서 인사이트를 얻기 위해\n",
    "  - 데이터의 요약\n",
    "- 다른 데이터 마이닝 작업의 중간 과정으로\n",
    "  - feature extraction\n",
    "  - outlier detection. 어떤 클러스터에서도 멀리 떨어져 있는 데이터들\n",
    "- 데이터 압축\n",
    "  - 이미지 압축 등\n",
    "- 추천 시스템\n",
    "  - 비슷한 유저나 비슷한 제품을 찾기\n",
    "- 비즈니스\n",
    "  - market segmentation"
   ]
  },
  {
   "cell_type": "markdown",
   "metadata": {
    "slideshow": {
     "slide_type": "subslide"
    }
   },
   "source": [
    "## 클러스터링의 종류\n",
    "\n",
    "- partitioning criteria\n",
    "  - single level vs. hierarchical partitioning\n",
    "- separation of clusters\n",
    "  - 배제적(exclusive) : 한 데이터 포인트는 한 클러스터에만 속한다.\n",
    "    - 예) 한 고객은 한 군집에만 속함\n",
    "  - 비배제적(non-exclusive)\n",
    "    - 예) 한 문서는 여러 토픽에 속함\n",
    "- 유사도 지표(similarity measure)\n",
    "  - Distance-based\n",
    "  - connectivity-based\n",
    "- 클러스터링 공간(Clustering space)\n",
    "  - Full space vs. subspaces"
   ]
  },
  {
   "cell_type": "markdown",
   "metadata": {
    "slideshow": {
     "slide_type": "subslide"
    }
   },
   "source": [
    "## 클러스터링에서 어려운 점\n",
    "\n",
    "- Quality\n",
    "  - numerical, categorical, text, multimedia, networks 등 다양한 형식의 속성들 처리\n",
    "  - 불규칙한 모양의 클러스터 발견하기\n",
    "  - 노이즈가 있는 데이터 다루기\n",
    "- Scalability\n",
    "  - 샘플이 아닌 모든 데이터 클러스터링 하기\n",
    "  - 높은 차원 다루기\n",
    "  - 점진적(incremental or stream) 입력 다루기. 입력 순서에 민감하지 않기\n",
    "- Constraint-based clustering\n",
    "  - User-given preferences or constraints\n",
    "- 해석가능성과 사용가능성(interpretability and usability)\n",
    "- (+) (reproducability)\n"
   ]
  },
  {
   "cell_type": "markdown",
   "metadata": {
    "slideshow": {
     "slide_type": "subslide"
    }
   },
   "source": [
    "# 클러스터링 기법들(Clustering methodologies)\n",
    "\n",
    "* K-means clustering\n",
    "  * 미리 정해진 숫자의 클러스터로 클러스터링을 한다.\n",
    "* Hierarchical clustering\n",
    "  * 몇 개의 클러스터를 원하는지 모를 때\n",
    "  * 데이터가 dendrogram이라는 트리 모양으로 나타내진다.\n",
    "  * 그 뒤 몇 개의 클러스터를 원하는지 선택한다."
   ]
  },
  {
   "cell_type": "markdown",
   "metadata": {
    "slideshow": {
     "slide_type": "slide"
    }
   },
   "source": [
    "# K-means clustering"
   ]
  },
  {
   "cell_type": "markdown",
   "metadata": {
    "slideshow": {
     "slide_type": "subslide"
    }
   },
   "source": [
    "## 알고리즘\n",
    "* 먼저 원하는 클러스터의 개수 K를 고른다.\n",
    "* 각각의 데이터 포인트마다 무작위로 1부터 K까지의 클러스터 번호를 지정한다. (초기화)\n",
    "* 클러스터 할당(assignment)이 바뀌지 않을 때까지 다음을 반복한다.\n",
    "    * 각각의 클러스터에 속한 데이터 포인트들을 평균내어, 클러스터의 중심(centroid)을 계산한다.\n",
    "    * 각각의 데이터 포인트마다 가장 가까운 중심(centroid)를 가진 클러스터에 할당한다."
   ]
  },
  {
   "cell_type": "markdown",
   "metadata": {
    "slideshow": {
     "slide_type": "subslide"
    }
   },
   "source": [
    "![k-means](https://files.slack.com/files-pri/T25783BPY-F685XR0B0/screenshot.png?pub_secret=4819dac9f5)"
   ]
  },
  {
   "cell_type": "markdown",
   "metadata": {
    "slideshow": {
     "slide_type": "subslide"
    }
   },
   "source": [
    "## 초기화 방법\n",
    "\n",
    "* 무작위로 공간 상에서 중심(centroid)를 지정하기\n",
    "* 무작위로 K개의 데이터 포인트를 골라서 각각의 클러스터 중심으로 지정하기"
   ]
  },
  {
   "cell_type": "markdown",
   "metadata": {
    "slideshow": {
     "slide_type": "subslide"
    }
   },
   "source": [
    "## 특징\n",
    "\n",
    "* 모든 데이터 포인트는 K개 클러스터 중에 하나에 속한다.\n",
    "* 어떤 데이터 포인트도 두 개 이상의 클러스터에 속할 수 없다.\n",
    "* 랜덤성이 있다.\n",
    "* 클러스터 사이의 순서는 없다."
   ]
  },
  {
   "cell_type": "markdown",
   "metadata": {
    "slideshow": {
     "slide_type": "subslide"
    }
   },
   "source": [
    "## 수학적으로 보면\n",
    "\n",
    "* 좋은 클러스터링 : 클러스터 내의 분산(within-cluster variation)이 작은 클러스터링"
   ]
  },
  {
   "cell_type": "markdown",
   "metadata": {
    "slideshow": {
     "slide_type": "subslide"
    }
   },
   "source": [
    "  $$\n",
    "  minimize_{C_1, ..., C_K}{\\sum^K_{k=1}W(C_k)}\n",
    "  $$\n",
    "\n",
    "  $$\n",
    "  W(C_k) = \\frac{1}{|C_k|}\\sum_{i, i'\\in C_k}\\sum^p_{j=1}(x_{ij} - x_{i'j})^2\n",
    "  $$\n",
    "\n",
    "  * $W(C_k)$는 k번째 클러스터의 클러스터 내 분산(within-cluster variation)\n",
    "  * $|C_k|$는 k번째 클러스터에 속하는 데이터 포인트의 개수\n",
    "  * k번째 클러스터 내 분산은 k번째 클러스터에 속하는 모든 데이터 포인트들의 쌍 사이의 거리를 더하고 데이터의 개수로 나눈 것이다."
   ]
  },
  {
   "cell_type": "markdown",
   "metadata": {
    "slideshow": {
     "slide_type": "subslide"
    }
   },
   "source": [
    "## 클러스터 내 분산을 최소화하는 클러스터링 찾기\n",
    "\n",
    "  * 매우 어려운 문제이다.\n",
    "  * n개의 데이터포인트를 K개의 클러스터로 나누는 데는 K^n개의 방법이 있기 때문\n",
    "  * K-means 알고리즘은 local optimum을 찾아주는 근사 알고리즘이다.\n",
    "  * 알고리즘 핵심 : 매번 iteration을 할 때마다, $W(C_k)$는 줄어들기만 할 뿐 증가하지 않는다."
   ]
  },
  {
   "cell_type": "markdown",
   "metadata": {
    "slideshow": {
     "slide_type": "subslide"
    }
   },
   "source": [
    "## k-means 알고리즘을 여러번 해서 서로 다른 결과를 얻었다면\n",
    "\n",
    "* 클러스터 내 분산이 작은 쪽을 선택한다."
   ]
  },
  {
   "cell_type": "markdown",
   "metadata": {
    "slideshow": {
     "slide_type": "subslide"
    }
   },
   "source": [
    "![k-means](https://files.slack.com/files-pri/T25783BPY-F66QK1T09/screenshot.png?pub_secret=de082ff143)"
   ]
  },
  {
   "cell_type": "markdown",
   "metadata": {
    "slideshow": {
     "slide_type": "slide"
    }
   },
   "source": [
    "# 계층형 클러스터링 (Hierarchical Clustering)"
   ]
  },
  {
   "cell_type": "markdown",
   "metadata": {
    "slideshow": {
     "slide_type": "subslide"
    }
   },
   "source": [
    "## 알고리즘\n",
    "* 데이터 포인트를 각각 데이터 1개를 갖고 있는 클러스터라고 본다.\n",
    "* 더 이상 할 게 없을 때까지 다음을 반복한다.\n",
    "    * 지금 있는 모든 클러스터들 간의 거리(dissimmilarities)를 계산한다.\n",
    "    * 가장 거리가 작은 두 클러스터를 합친다. (이 때 두 클러스터 간의 거리가 dendrogram에서 세로축의 값이 된다.)"
   ]
  },
  {
   "cell_type": "markdown",
   "metadata": {
    "slideshow": {
     "slide_type": "subslide"
    }
   },
   "source": [
    "![linkage](https://files.slack.com/files-pri/T25783BPY-F67L0G8FL/screenshot.png?pub_secret=a17e0b8b58)"
   ]
  },
  {
   "cell_type": "markdown",
   "metadata": {
    "slideshow": {
     "slide_type": "subslide"
    }
   },
   "source": [
    "## 특징\n",
    "* 계층형 클러스터링 (Hierarchical clustering)은 클러스터 개수를 미리 지정하지 않아도 된다.\n",
    "* 데이터를 트리 모양으로 나타내는 dendrogram을 만들어낸다."
   ]
  },
  {
   "cell_type": "markdown",
   "metadata": {
    "slideshow": {
     "slide_type": "subslide"
    }
   },
   "source": [
    "## Dendrogram\n",
    "\n",
    "![dendrogram](https://files.slack.com/files-pri/T25783BPY-F67LYJ084/screenshot.png?pub_secret=2584fdb577)"
   ]
  },
  {
   "cell_type": "markdown",
   "metadata": {
    "slideshow": {
     "slide_type": "subslide"
    }
   },
   "source": [
    "![example](https://files.slack.com/files-pri/T25783BPY-F67NEQP8D/screenshot.png?pub_secret=2af0ac1ea5)"
   ]
  },
  {
   "cell_type": "markdown",
   "metadata": {
    "slideshow": {
     "slide_type": "subslide"
    }
   },
   "source": [
    "## Dendrogram 해석\n",
    "  * Dendrogram의 '잎'은 각각의 데이터 포인트들이다.\n",
    "  * 트리 위로 올라가며 가장 가까운 데이터 포인트들끼리 합쳐져서 가지(branch)를 만든다.\n",
    "  * 더 위로 올라가면 가지(branch)들이 다른 잎(leave)이나 가지(branch)와 합쳐진다.\n",
    "  * 가까운 가지일 수록 합쳐지는 게 더 빨리 (tree 아래 부분에서) 일어난다.\n",
    "  * 즉, 나중에 (tree의 윗부분에서) 합쳐질 수록 두 가지가 다르다는 것 뜻한다."
   ]
  },
  {
   "cell_type": "markdown",
   "metadata": {
    "slideshow": {
     "slide_type": "subslide"
    }
   },
   "source": [
    "## dendrogram 기반으로 클러스터링 하기\n",
    "  * 수평선 방향으로 어디에서 자를지 결정하면 클러스터링이 결정된다.\n",
    "  * 즉, 어느 거리(distance) 이하의 가지까지만 합쳐질 수 있게 하면 클러스터링이 결정된다.\n",
    "  * 하나의 dendrogram에서 어떤 개수의 클러스터도 구할 수 있다.\n",
    "  * dendrogram을 눈으로 보고 그럴 듯한 클러스터 개수를 찾아낼 수 있는 것이 장점이다."
   ]
  },
  {
   "cell_type": "markdown",
   "metadata": {
    "slideshow": {
     "slide_type": "subslide"
    }
   },
   "source": [
    "## 왜 Hierarchical 이라고 하나요?\n",
    "  * 클러스터 개수를 줄여갈 수록, 항상 기존 클러스터가 합쳐져서 더 큰 클러스터를 형성한다.\n",
    "  * 클러스터 개수를 늘여갈 수록, 항상 기존 클러스터가 나눠져서 더 작은 클러스터가 된다."
   ]
  },
  {
   "cell_type": "markdown",
   "metadata": {
    "slideshow": {
     "slide_type": "subslide"
    }
   },
   "source": [
    "![dendrogram2](https://files.slack.com/files-pri/T25783BPY-F67378VQR/screenshot.png?pub_secret=8107439c53)"
   ]
  },
  {
   "cell_type": "markdown",
   "metadata": {
    "slideshow": {
     "slide_type": "subslide"
    }
   },
   "source": [
    "## dendrogram을 해석할 때 흔히 하는 실수\n",
    "  * 위 그림에서, 5와 7은 상당히 비슷하다. (맞음)\n",
    "  * 1과 6도 상당히 비슷하다. (맞음)\n",
    "  * 9와 2는 비슷하다. (틀림)\n",
    "  * 9는 8, 5, 7보다 2에 더 가깝지 않다.\n",
    "  * dendrogram을 그릴 때 leave의 순서는 중요하지 않기 때문에, 가로축 방향으로 얼마나 가까운지는 의미가 없다.\n",
    "  * 오직 두 가지(branches)가 합쳐지는 순간의 세로축의 값(distance)이 두 그룹이 얼마나 비슷한지를 알려주는 척도이다."
   ]
  },
  {
   "cell_type": "markdown",
   "metadata": {
    "slideshow": {
     "slide_type": "subslide"
    }
   },
   "source": [
    "## 거리를 어떻게 측정할 것인가\n",
    "\n",
    "두 가지 거리를 정의해야 한다.\n",
    "### 두 데이터 포인트 사이의 거리(dissimilarity)\n",
    "    * 보통 유클리드 거리(Euclidean distance)가 쓰인다.\n",
    "    * 다른 거리도 쓸 수 있다.\n",
    "### 두 클러스터(cluster) 사이의 거리(dissimilarity)\n",
    "    * 거리(dissimilarity)의 일반화된 개념이다.\n",
    "    * linkage라고 부른다."
   ]
  },
  {
   "cell_type": "markdown",
   "metadata": {
    "slideshow": {
     "slide_type": "subslide"
    }
   },
   "source": [
    "## Linkage의 종류\n",
    "  * Complete\n",
    "    * 최대 클러스터간 거리 (Maximal intercluster dissimilarity). A 클러스터에 속한 점들과 B 클러스터에 속한 점들 사이의 거리를 모두 계산해서, 가장 큰 거리가 두 클러스터 사이의 거리가 된다.\n",
    "  * Single\n",
    "    * 최소 클러스터간 거리 (Minimal intercluster dissimilarity). 가장 작은 거리가 두 클러스터 사이의 거리가 된다. 이 방식으로 하면 보통 한 클러스터가 계속해서 커지는 결과가 나온다.\n",
    "  * Average\n",
    "    * 평균 클러스터간 거리 (Average intercluster dissimilarity). 두 클러스터에 속한 점들 사이 거리를 구해서 평균 낸다.\n",
    "  * Centroid\n",
    "    * 중심(centroid) 사이의 거리. 중심은 그 클러스터에 속한 점들의 평균으로 결정된다."
   ]
  },
  {
   "cell_type": "markdown",
   "metadata": {
    "slideshow": {
     "slide_type": "subslide"
    }
   },
   "source": [
    "## Average나 complete가 가장 자주 쓰인다.\n",
    "  * 더 균형잡힌 클러스터가 만들어진다.\n",
    "  * single은 보통 한 클러스터가 계속 커지는 문제가 있다.\n",
    "  * centroid는 inversion이라는 문제가 있다. 즉, dendrogram 상에서 두 클러스터가 각각의 클러스터보다 낮은 높이에서 합쳐지는 것이다. dendrogram을 그릴 때 문제가 생긴다."
   ]
  },
  {
   "cell_type": "markdown",
   "metadata": {
    "slideshow": {
     "slide_type": "subslide"
    }
   },
   "source": [
    "![single](https://files.slack.com/files-pri/T25783BPY-F68ELJHM4/screenshot.png?pub_secret=3b536cefdf)"
   ]
  },
  {
   "cell_type": "markdown",
   "metadata": {
    "slideshow": {
     "slide_type": "subslide"
    }
   },
   "source": [
    "## K means vs. hierarchical clustering\n",
    "\n",
    "### 계층형 클러스터링의 장점\n",
    "- 클러스터 개수를 미리 결정하지 않아도 된다.\n",
    "- dendrogram으로 데이터를 시각화할 수 있다.\n",
    "- 랜덤성이 없다.\n",
    "\n",
    "### K means의 장점\n",
    "- 상대적으로 빠르다.\n",
    "- 어떤 데이터셋에서는 큰 클러스터링이 작은 클러스터링을 포함하는 것이 부적절할 수 있다.\n",
    "  - 예를 들어, 남녀 비율이 50 대 50 이며 미국인, 일본인, 프랑스인 세 인종으로 삼등분 되어 있는 사람들의 경우 2개로 나눌 때와 3개로 나눌 때 가장 적절한 클러스터링이 다를 것이다.\n",
    "- K-means는 보통 주어진 클러스터 개수에 대해서 더 나은 결과를 낳는다고 알려져 있다."
   ]
  },
  {
   "cell_type": "markdown",
   "metadata": {
    "slideshow": {
     "slide_type": "slide"
    }
   },
   "source": [
    "# 클러스터링 평가하기 (Clustering Evaluation)\n",
    "\n",
    "적절한 클러스터 개수 구하기"
   ]
  },
  {
   "cell_type": "markdown",
   "metadata": {
    "slideshow": {
     "slide_type": "subslide"
    }
   },
   "source": [
    "## Elbow method\n",
    "\n",
    "cost의 감소 속도가 줄어드는 지점에서 끊기"
   ]
  },
  {
   "cell_type": "markdown",
   "metadata": {
    "slideshow": {
     "slide_type": "subslide"
    }
   },
   "source": [
    "K-means의 경우, cost function이 있다!\n",
    "\n",
    "$$\n",
    "minimize_{C_1, ..., C_K}{\\sum^K_{k=1}W(C_k)}\n",
    "$$\n",
    "\n",
    "이걸로 평가하면 안되나?"
   ]
  },
  {
   "cell_type": "markdown",
   "metadata": {
    "slideshow": {
     "slide_type": "subslide"
    }
   },
   "source": [
    "## K-means의 클러스터 개수 대비 -cost\n",
    "![elbow](https://files.slack.com/files-pri/T25783BPY-F688Y888M/elbow.png?pub_secret=ccc52addb0)"
   ]
  },
  {
   "cell_type": "markdown",
   "metadata": {
    "slideshow": {
     "slide_type": "subslide"
    }
   },
   "source": [
    "- 문제는, 클러스터 개수가 증가할 수록 cost는 계속해서 감소한다. \n",
    "- 클러스터 개수가 많을 수록 centroid와 데이터 포인트 간의 거리는 작아지기 때문이다.\n",
    "- 그럼 클러스터 개수가 많을 수록 좋은건가? 그건 아니다."
   ]
  },
  {
   "cell_type": "markdown",
   "metadata": {
    "slideshow": {
     "slide_type": "subslide"
    }
   },
   "source": [
    "## Elbow method 알고리즘(?)\n",
    "\n",
    "* 그래프를 보면 처음에는 급격히 cost가 감소하다가 어느 순간 정체된다.\n",
    "* 감소세가 정체되는 지점에서 클러스터 개수를 정하자"
   ]
  },
  {
   "cell_type": "markdown",
   "metadata": {
    "slideshow": {
     "slide_type": "subslide"
    }
   },
   "source": [
    "## 한계\n",
    "\n",
    "* 감소세가 정체되는 부분이 언제인지 결정하는 것은 주관적이다\n",
    "* 감소분이 최소인 지점이 항상 가장 좋은 클러스터링은 아니다."
   ]
  },
  {
   "cell_type": "markdown",
   "metadata": {
    "slideshow": {
     "slide_type": "subslide"
    }
   },
   "source": [
    "## Silhouette\n",
    "\n",
    " 실루엣 값은 한 클러스터 안의 데이터들이 다른 클러스터와 비교해서 얼마나 비슷한가를 나타낸다.\n",
    "  * 클러스터 안의 거리가 짧을 수록 좋고(cohesion) 다른 클러스터와의 거리는 멀수록 좋다.(separation)\n",
    "  * 데이터 포인트 별로 값을 구할 수 있다.\n",
    "  * 실루엣은 -1부터 1 사이의 값을 가진다.\n",
    "  * 높을 수록 좋다.\n",
    "  *  어떤 클러스터링 알고리즘이든지 구할 수 있다."
   ]
  },
  {
   "cell_type": "markdown",
   "metadata": {
    "slideshow": {
     "slide_type": "subslide"
    }
   },
   "source": [
    "## 계산 방법\n",
    "\n",
    "  * i번째 데이터 포인트에 대해서\n",
    "  * a(i)는 같은 클러스터 안에 있는 다른 데이터 포인트와의 평균 거리(dissimilarity)\n",
    "    * a(i)는 i번째 데이터 포인트가 클러스터에 얼마나 잘 맞는지 측정한다. \n",
    "    * 낮을 수록 더 잘 속해있는 것\n",
    "  * b(i)는 i가 속하지 않은 다른 클러스터와의 평균 거리 중 가장 작은 거리이다.\n",
    "    * 내가 속하지 않은 가장 가까운 클러스터, 즉 이웃 클러스터(neighbouring cluster)와의 거리"
   ]
  },
  {
   "cell_type": "markdown",
   "metadata": {
    "slideshow": {
     "slide_type": "subslide"
    }
   },
   "source": [
    "## 실루엣 정의\n",
    "![sihouette](https://files.slack.com/files-pri/T25783BPY-F690TC8FQ/screenshot.png?pub_secret=7d798bd990)\n",
    "\n",
    "  * b(i)가 a(i)보다 많이 클수록 1에 가까워지고, 좋다.\n",
    "  * 0이면 지금 클러스터나 이웃 클러스터나 어디 있든 상관 없다는 얘기"
   ]
  },
  {
   "cell_type": "markdown",
   "metadata": {
    "slideshow": {
     "slide_type": "subslide"
    }
   },
   "source": [
    "![silhouette2](http://scikit-learn.org/stable/_images/sphx_glr_plot_kmeans_silhouette_analysis_001.png)"
   ]
  },
  {
   "cell_type": "markdown",
   "metadata": {
    "slideshow": {
     "slide_type": "subslide"
    }
   },
   "source": [
    "![silhouette2](http://scikit-learn.org/stable/_images/sphx_glr_plot_kmeans_silhouette_analysis_002.png)"
   ]
  },
  {
   "cell_type": "markdown",
   "metadata": {
    "slideshow": {
     "slide_type": "subslide"
    }
   },
   "source": [
    "![silhouette2](http://scikit-learn.org/stable/_images/sphx_glr_plot_kmeans_silhouette_analysis_003.png)"
   ]
  },
  {
   "cell_type": "markdown",
   "metadata": {
    "slideshow": {
     "slide_type": "subslide"
    }
   },
   "source": [
    "![silhouette2](http://scikit-learn.org/stable/_images/sphx_glr_plot_kmeans_silhouette_analysis_004.png)"
   ]
  },
  {
   "cell_type": "markdown",
   "metadata": {
    "slideshow": {
     "slide_type": "subslide"
    }
   },
   "source": [
    "![silhouette2](http://scikit-learn.org/stable/_images/sphx_glr_plot_kmeans_silhouette_analysis_005.png)"
   ]
  },
  {
   "cell_type": "markdown",
   "metadata": {
    "slideshow": {
     "slide_type": "slide"
    }
   },
   "source": [
    "# Practice"
   ]
  },
  {
   "cell_type": "code",
   "execution_count": 7,
   "metadata": {
    "slideshow": {
     "slide_type": "subslide"
    }
   },
   "outputs": [],
   "source": [
    "import numpy as np\n",
    "# generate two clusters: a with 100 points, b with 50:\n",
    "np.random.seed(4711)  # for repeatability of this tutorial\n",
    "a = np.random.multivariate_normal([10, 0], [[3, 1], [1, 4]], size=[100,])\n",
    "b = np.random.multivariate_normal([0, 20], [[3, 1], [1, 4]], size=[50,])\n",
    "X = np.concatenate((a, b),)"
   ]
  },
  {
   "cell_type": "markdown",
   "metadata": {
    "slideshow": {
     "slide_type": "subslide"
    }
   },
   "source": [
    "## Hierarchical"
   ]
  },
  {
   "cell_type": "code",
   "execution_count": 8,
   "metadata": {
    "slideshow": {
     "slide_type": "-"
    }
   },
   "outputs": [],
   "source": [
    "from sklearn.cluster.hierarchical import AgglomerativeClustering"
   ]
  },
  {
   "cell_type": "code",
   "execution_count": 9,
   "metadata": {},
   "outputs": [],
   "source": [
    "AgglomerativeClustering??"
   ]
  },
  {
   "cell_type": "markdown",
   "metadata": {
    "slideshow": {
     "slide_type": "subslide"
    }
   },
   "source": [
    "### Dendrogram"
   ]
  },
  {
   "cell_type": "code",
   "execution_count": 10,
   "metadata": {},
   "outputs": [],
   "source": [
    "from scipy.cluster.hierarchy import dendrogram, linkage"
   ]
  },
  {
   "cell_type": "code",
   "execution_count": 11,
   "metadata": {
    "slideshow": {
     "slide_type": "skip"
    }
   },
   "outputs": [],
   "source": [
    "from matplotlib import pyplot as plt\n",
    "%matplotlib inline"
   ]
  },
  {
   "cell_type": "code",
   "execution_count": 12,
   "metadata": {
    "scrolled": true
   },
   "outputs": [],
   "source": [
    "Z = linkage(X, 'ward')"
   ]
  },
  {
   "cell_type": "markdown",
   "metadata": {},
   "source": [
    "`ward`는 클러스터 내 총 분산(total within-cluster variance)을 최소화 시키는 linkage 방법"
   ]
  },
  {
   "cell_type": "markdown",
   "metadata": {
    "slideshow": {
     "slide_type": "subslide"
    }
   },
   "source": [
    "## Z 들여다보기"
   ]
  },
  {
   "cell_type": "code",
   "execution_count": 24,
   "metadata": {
    "slideshow": {
     "slide_type": "-"
    }
   },
   "outputs": [
    {
     "data": {
      "text/plain": [
       "(149, 4)"
      ]
     },
     "execution_count": 24,
     "metadata": {},
     "output_type": "execute_result"
    }
   ],
   "source": [
    "Z.shape"
   ]
  },
  {
   "cell_type": "code",
   "execution_count": 25,
   "metadata": {
    "scrolled": true
   },
   "outputs": [
    {
     "data": {
      "text/plain": [
       "array([  5.20000000e+01,   5.30000000e+01,   4.15105485e-02,\n",
       "         2.00000000e+00])"
      ]
     },
     "execution_count": 25,
     "metadata": {},
     "output_type": "execute_result"
    }
   ],
   "source": [
    "Z[0]"
   ]
  },
  {
   "cell_type": "markdown",
   "metadata": {},
   "source": [
    "`[idx1, idx2, dist, sample_count]`"
   ]
  },
  {
   "cell_type": "markdown",
   "metadata": {},
   "source": [
    "첫번째로 9번째 데이터 포인트와 34번째 데이터 포인트가 merge되었다. 거리는 0이었고 새로 만들어진 클러스터는 2개 샘플을 갖고 있다."
   ]
  },
  {
   "cell_type": "code",
   "execution_count": 15,
   "metadata": {
    "slideshow": {
     "slide_type": "subslide"
    }
   },
   "outputs": [
    {
     "data": {
      "text/plain": [
       "array([  1.40000000e+01,   7.90000000e+01,   5.91375926e-02,\n",
       "         2.00000000e+00])"
      ]
     },
     "execution_count": 15,
     "metadata": {},
     "output_type": "execute_result"
    }
   ],
   "source": [
    "Z[1]"
   ]
  },
  {
   "cell_type": "code",
   "execution_count": 16,
   "metadata": {
    "scrolled": true
   },
   "outputs": [
    {
     "data": {
      "text/plain": [
       "array([[  52.,   53.,    0.,    2.],\n",
       "       [  14.,   79.,    0.,    2.],\n",
       "       [  33.,   68.,    0.,    2.],\n",
       "       [  17.,   73.,    0.,    2.],\n",
       "       [   1.,    8.,    0.,    2.],\n",
       "       [  85.,   95.,    0.,    2.],\n",
       "       [ 108.,  131.,    0.,    2.],\n",
       "       [   9.,   66.,    0.,    2.],\n",
       "       [  15.,   69.,    0.,    2.],\n",
       "       [  63.,   98.,    0.,    2.]])"
      ]
     },
     "execution_count": 16,
     "metadata": {},
     "output_type": "execute_result"
    }
   ],
   "source": [
    "Z[:10].round(0)"
   ]
  },
  {
   "cell_type": "code",
   "execution_count": 17,
   "metadata": {
    "slideshow": {
     "slide_type": "subslide"
    }
   },
   "outputs": [
    {
     "data": {
      "image/png": "[encoded data removed]",
      "text/plain": [
       "<matplotlib.figure.Figure at 0x1a1427bcc0>"
      ]
     },
     "metadata": {},
     "output_type": "display_data"
    }
   ],
   "source": [
    "plt.figure(figsize=(25, 10))\n",
    "plt.title('Hierarchical Clustering Dendrogram')\n",
    "plt.xlabel('sample index')\n",
    "plt.ylabel('distance')\n",
    "dendrogram(\n",
    "    Z,\n",
    "    leaf_rotation=90.,  # rotates the x axis labels\n",
    "    leaf_font_size=8.,  # font size for the x axis labels\n",
    "    color_threshold=5\n",
    ")\n",
    "plt.show()"
   ]
  },
  {
   "cell_type": "markdown",
   "metadata": {
    "slideshow": {
     "slide_type": "subslide"
    }
   },
   "source": [
    "## 클러스터별 색깔 다르게 하기\n",
    "`color_threshold`"
   ]
  },
  {
   "cell_type": "code",
   "execution_count": 26,
   "metadata": {},
   "outputs": [
    {
     "data": {
      "image/png": "[encoded data removed]",
      "text/plain": [
       "<matplotlib.figure.Figure at 0x1a187306a0>"
      ]
     },
     "metadata": {},
     "output_type": "display_data"
    }
   ],
   "source": [
    "plt.title('Hierarchical Clustering Dendrogram (truncated)')\n",
    "plt.xlabel('sample index')\n",
    "plt.ylabel('distance')\n",
    "dendrogram(\n",
    "    Z,\n",
    "    truncate_mode='lastp',  # show only the last p merged clusters\n",
    "    p=12,  # show only the last pa merged clusters\n",
    "    show_leaf_counts=False,  # otherwise numbers in brackets are counts\n",
    "    leaf_rotation=90.,\n",
    "    leaf_font_size=12.,\n",
    "    show_contracted=True,  # to get a distribution impression in truncated branches\n",
    "    color_threshold=50\n",
    ")\n",
    "plt.show()"
   ]
  },
  {
   "cell_type": "markdown",
   "metadata": {
    "slideshow": {
     "slide_type": "subslide"
    }
   },
   "source": [
    "## 압축하기"
   ]
  },
  {
   "cell_type": "code",
   "execution_count": 19,
   "metadata": {
    "slideshow": {
     "slide_type": "-"
    }
   },
   "outputs": [
    {
     "data": {
      "image/png": "[encoded data removed]",
      "text/plain": [
       "<matplotlib.figure.Figure at 0x1a184c3b38>"
      ]
     },
     "metadata": {},
     "output_type": "display_data"
    }
   ],
   "source": [
    "plt.title('Hierarchical Clustering Dendrogram (truncated)')\n",
    "plt.xlabel('sample index or (cluster size)')\n",
    "plt.ylabel('distance')\n",
    "dendrogram(\n",
    "    Z,\n",
    "    truncate_mode='lastp',  # show only the last p merged clusters\n",
    "    p=12,  # show only the last p merged clusters\n",
    "    leaf_rotation=90.,\n",
    "    leaf_font_size=12.,\n",
    "    show_contracted=True,  # to get a distribution impression in truncated branches\n",
    ")\n",
    "plt.show()"
   ]
  },
  {
   "cell_type": "markdown",
   "metadata": {
    "slideshow": {
     "slide_type": "subslide"
    }
   },
   "source": [
    "## merge될 때 distance를 표시하기"
   ]
  },
  {
   "cell_type": "code",
   "execution_count": 20,
   "metadata": {},
   "outputs": [],
   "source": [
    "def fancy_dendrogram(*args, **kwargs):\n",
    "    max_d = kwargs.pop('max_d', None)\n",
    "    if max_d and 'color_threshold' not in kwargs:\n",
    "        kwargs['color_threshold'] = max_d\n",
    "    annotate_above = kwargs.pop('annotate_above', 0)\n",
    "\n",
    "    ddata = dendrogram(*args, **kwargs)\n",
    "\n",
    "    if not kwargs.get('no_plot', False):\n",
    "        plt.title('Hierarchical Clustering Dendrogram (truncated)')\n",
    "        plt.xlabel('sample index or (cluster size)')\n",
    "        plt.ylabel('distance')\n",
    "        for i, d, c in zip(ddata['icoord'], ddata['dcoord'], ddata['color_list']):\n",
    "            x = 0.5 * sum(i[1:3])\n",
    "            y = d[1]\n",
    "            if y > annotate_above:\n",
    "                plt.plot(x, y, 'o', c=c)\n",
    "                plt.annotate(\"%.3g\" % y, (x, y), xytext=(0, -5),\n",
    "                             textcoords='offset points',\n",
    "                             va='top', ha='center')\n",
    "        if max_d:\n",
    "            plt.axhline(y=max_d, c='k')\n",
    "    return ddata"
   ]
  },
  {
   "cell_type": "code",
   "execution_count": 21,
   "metadata": {
    "slideshow": {
     "slide_type": "subslide"
    }
   },
   "outputs": [
    {
     "data": {
      "image/png": "[encoded data removed]",
      "text/plain": [
       "<matplotlib.figure.Figure at 0x1a184c34a8>"
      ]
     },
     "metadata": {},
     "output_type": "display_data"
    }
   ],
   "source": [
    "fancy_dendrogram(\n",
    "    Z,\n",
    "    truncate_mode='lastp',\n",
    "    p=12,\n",
    "    leaf_rotation=90.,\n",
    "    leaf_font_size=12.,\n",
    "    show_contracted=True,\n",
    "    annotate_above=10,  # useful in small plots so annotations don't overlap\n",
    ")\n",
    "plt.show()"
   ]
  },
  {
   "cell_type": "markdown",
   "metadata": {
    "slideshow": {
     "slide_type": "subslide"
    }
   },
   "source": [
    "## 자르는 기준을 표시하기"
   ]
  },
  {
   "cell_type": "code",
   "execution_count": 22,
   "metadata": {},
   "outputs": [],
   "source": [
    "max_d = 20  # max_d as in max_distance"
   ]
  },
  {
   "cell_type": "code",
   "execution_count": 23,
   "metadata": {},
   "outputs": [
    {
     "data": {
      "image/png": "[encoded data removed]",
      "text/plain": [
       "<matplotlib.figure.Figure at 0x1a17916470>"
      ]
     },
     "metadata": {},
     "output_type": "display_data"
    }
   ],
   "source": [
    "fancy_dendrogram(\n",
    "    Z,\n",
    "    truncate_mode='lastp',\n",
    "    p=12,\n",
    "    leaf_rotation=90.,\n",
    "    leaf_font_size=12.,\n",
    "    show_contracted=True,\n",
    "    annotate_above=3,\n",
    "    max_d=max_d,  # plot a horizontal cut-off line\n",
    ")\n",
    "plt.show()"
   ]
  },
  {
   "cell_type": "markdown",
   "metadata": {
    "slideshow": {
     "slide_type": "subslide"
    }
   },
   "source": [
    "## label 뽑아내기 - max distance로"
   ]
  },
  {
   "cell_type": "code",
   "execution_count": 29,
   "metadata": {},
   "outputs": [
    {
     "data": {
      "text/plain": [
       "array([15, 15,  7, 17, 11, 10, 10, 12, 15,  7,  8, 17, 17,  8, 13, 15,  7,\n",
       "       13, 13, 17, 14, 16, 16, 17, 14, 10, 10, 11, 13, 14, 10, 14, 17, 15,\n",
       "       13, 13,  8,  7, 12, 10,  9, 15, 17, 14, 17, 12, 16,  8, 13, 14, 16,\n",
       "       12, 16, 16, 12, 14, 17,  7, 14,  8, 11, 14, 15, 15, 12,  7,  7, 10,\n",
       "       15, 15, 15, 16, 16, 13,  7, 14,  8,  7, 17, 13, 14,  8, 15,  8, 10,\n",
       "        8,  8, 12, 10, 14,  8, 10, 12,  7, 16,  8, 15, 12, 15,  8,  3,  3,\n",
       "        1,  5,  2,  1,  2,  3,  2,  6,  3,  4,  2,  6,  1,  3,  4,  4,  2,\n",
       "        6,  2,  2,  5,  3,  3,  5,  4,  2,  1,  6,  1,  2,  2,  2,  3,  3,\n",
       "        4,  1,  3,  1,  5,  6,  2,  3,  2,  3,  6,  1,  1,  1], dtype=int32)"
      ]
     },
     "execution_count": 29,
     "metadata": {},
     "output_type": "execute_result"
    }
   ],
   "source": [
    "from scipy.cluster.hierarchy import fcluster\n",
    "max_d = 5\n",
    "clusters = fcluster(Z, max_d, criterion='distance')\n",
    "clusters"
   ]
  },
  {
   "cell_type": "markdown",
   "metadata": {
    "slideshow": {
     "slide_type": "subslide"
    }
   },
   "source": [
    "## label 뽑아내기 - 클러스터 개수로"
   ]
  },
  {
   "cell_type": "code",
   "execution_count": 31,
   "metadata": {
    "scrolled": true
   },
   "outputs": [
    {
     "data": {
      "text/plain": [
       "array([2, 2, 2, 2, 2, 2, 2, 2, 2, 2, 2, 2, 2, 2, 2, 2, 2, 2, 2, 2, 2, 2, 2,\n",
       "       2, 2, 2, 2, 2, 2, 2, 2, 2, 2, 2, 2, 2, 2, 2, 2, 2, 2, 2, 2, 2, 2, 2,\n",
       "       2, 2, 2, 2, 2, 2, 2, 2, 2, 2, 2, 2, 2, 2, 2, 2, 2, 2, 2, 2, 2, 2, 2,\n",
       "       2, 2, 2, 2, 2, 2, 2, 2, 2, 2, 2, 2, 2, 2, 2, 2, 2, 2, 2, 2, 2, 2, 2,\n",
       "       2, 2, 2, 2, 2, 2, 2, 2, 1, 1, 1, 1, 1, 1, 1, 1, 1, 1, 1, 1, 1, 1, 1,\n",
       "       1, 1, 1, 1, 1, 1, 1, 1, 1, 1, 1, 1, 1, 1, 1, 1, 1, 1, 1, 1, 1, 1, 1,\n",
       "       1, 1, 1, 1, 1, 1, 1, 1, 1, 1, 1, 1], dtype=int32)"
      ]
     },
     "execution_count": 31,
     "metadata": {},
     "output_type": "execute_result"
    }
   ],
   "source": [
    "k=2\n",
    "fcluster(Z, k, criterion='maxclust')"
   ]
  },
  {
   "cell_type": "markdown",
   "metadata": {
    "slideshow": {
     "slide_type": "slide"
    }
   },
   "source": [
    "# Evaluation"
   ]
  },
  {
   "cell_type": "code",
   "execution_count": 7,
   "metadata": {
    "collapsed": true,
    "slideshow": {
     "slide_type": "skip"
    }
   },
   "outputs": [],
   "source": [
    "import pandas as pd"
   ]
  },
  {
   "cell_type": "code",
   "execution_count": 8,
   "metadata": {
    "collapsed": true,
    "slideshow": {
     "slide_type": "skip"
    }
   },
   "outputs": [],
   "source": [
    "from sklearn.datasets import load_iris"
   ]
  },
  {
   "cell_type": "code",
   "execution_count": 9,
   "metadata": {
    "collapsed": true,
    "slideshow": {
     "slide_type": "subslide"
    }
   },
   "outputs": [],
   "source": [
    "iris = load_iris()"
   ]
  },
  {
   "cell_type": "code",
   "execution_count": 10,
   "metadata": {
    "scrolled": true
   },
   "outputs": [
    {
     "data": {
      "text/html": [
       "<div>\n",
       "<style>\n",
       "    .dataframe thead tr:only-child th {\n",
       "        text-align: right;\n",
       "    }\n",
       "\n",
       "    .dataframe thead th {\n",
       "        text-align: left;\n",
       "    }\n",
       "\n",
       "    .dataframe tbody tr th {\n",
       "        vertical-align: top;\n",
       "    }\n",
       "</style>\n",
       "<table border=\"1\" class=\"dataframe\">\n",
       "  <thead>\n",
       "    <tr style=\"text-align: right;\">\n",
       "      <th></th>\n",
       "      <th>sepal length (cm)</th>\n",
       "      <th>sepal width (cm)</th>\n",
       "      <th>petal length (cm)</th>\n",
       "      <th>petal width (cm)</th>\n",
       "    </tr>\n",
       "  </thead>\n",
       "  <tbody>\n",
       "    <tr>\n",
       "      <th>0</th>\n",
       "      <td>5.1</td>\n",
       "      <td>3.5</td>\n",
       "      <td>1.4</td>\n",
       "      <td>0.2</td>\n",
       "    </tr>\n",
       "    <tr>\n",
       "      <th>1</th>\n",
       "      <td>4.9</td>\n",
       "      <td>3.0</td>\n",
       "      <td>1.4</td>\n",
       "      <td>0.2</td>\n",
       "    </tr>\n",
       "    <tr>\n",
       "      <th>2</th>\n",
       "      <td>4.7</td>\n",
       "      <td>3.2</td>\n",
       "      <td>1.3</td>\n",
       "      <td>0.2</td>\n",
       "    </tr>\n",
       "    <tr>\n",
       "      <th>3</th>\n",
       "      <td>4.6</td>\n",
       "      <td>3.1</td>\n",
       "      <td>1.5</td>\n",
       "      <td>0.2</td>\n",
       "    </tr>\n",
       "    <tr>\n",
       "      <th>4</th>\n",
       "      <td>5.0</td>\n",
       "      <td>3.6</td>\n",
       "      <td>1.4</td>\n",
       "      <td>0.2</td>\n",
       "    </tr>\n",
       "  </tbody>\n",
       "</table>\n",
       "</div>"
      ],
      "text/plain": [
       "   sepal length (cm)  sepal width (cm)  petal length (cm)  petal width (cm)\n",
       "0                5.1               3.5                1.4               0.2\n",
       "1                4.9               3.0                1.4               0.2\n",
       "2                4.7               3.2                1.3               0.2\n",
       "3                4.6               3.1                1.5               0.2\n",
       "4                5.0               3.6                1.4               0.2"
      ]
     },
     "execution_count": 10,
     "metadata": {},
     "output_type": "execute_result"
    }
   ],
   "source": [
    "X = pd.DataFrame(iris.data, columns=iris.feature_names)\n",
    "X.head()"
   ]
  },
  {
   "cell_type": "code",
   "execution_count": 33,
   "metadata": {
    "slideshow": {
     "slide_type": "subslide"
    }
   },
   "outputs": [],
   "source": [
    "from sklearn.cluster import KMeans"
   ]
  },
  {
   "cell_type": "code",
   "execution_count": 34,
   "metadata": {},
   "outputs": [
    {
     "data": {
      "text/plain": [
       "KMeans(algorithm='auto', copy_x=True, init='k-means++', max_iter=300,\n",
       "    n_clusters=8, n_init=10, n_jobs=1, precompute_distances='auto',\n",
       "    random_state=None, tol=0.0001, verbose=0)"
      ]
     },
     "execution_count": 34,
     "metadata": {},
     "output_type": "execute_result"
    }
   ],
   "source": [
    "km = KMeans(n_clusters=8)\n",
    "km.fit(X)"
   ]
  },
  {
   "cell_type": "code",
   "execution_count": 35,
   "metadata": {
    "slideshow": {
     "slide_type": "subslide"
    }
   },
   "outputs": [
    {
     "data": {
      "text/plain": [
       "array([7, 7, 3, 3, 4, 7, 7, 4, 7, 3, 2, 7, 3, 2, 1, 7, 3, 1, 1, 3, 1, 3, 3,\n",
       "       7, 1, 7, 7, 4, 1, 1, 7, 1, 3, 1, 1, 1, 2, 2, 4, 7, 2, 7, 3, 1, 3, 4,\n",
       "       3, 2, 1, 1, 3, 7, 3, 3, 7, 1, 3, 2, 1, 2, 4, 1, 1, 1, 4, 3, 3, 7, 1,\n",
       "       7, 7, 3, 3, 1, 3, 1, 2, 3, 3, 1, 1, 2, 1, 2, 7, 2, 2, 1, 7, 1, 2, 7,\n",
       "       1, 2, 3, 2, 3, 7, 1, 2, 0, 6, 0, 6, 5, 5, 5, 0, 5, 0, 0, 6, 5, 0, 5,\n",
       "       0, 6, 6, 5, 0, 5, 5, 6, 0, 0, 6, 6, 5, 5, 0, 5, 5, 5, 5, 6, 0, 6, 5,\n",
       "       6, 5, 6, 0, 5, 0, 5, 0, 0, 5, 0, 5], dtype=int32)"
      ]
     },
     "execution_count": 35,
     "metadata": {},
     "output_type": "execute_result"
    }
   ],
   "source": [
    "km.labels_"
   ]
  },
  {
   "cell_type": "code",
   "execution_count": 36,
   "metadata": {},
   "outputs": [
    {
     "data": {
      "text/plain": [
       "array([7, 7, 3, 3, 4, 7, 7, 4, 7, 3, 2, 7, 3, 2, 1, 7, 3, 1, 1, 3, 1, 3, 3,\n",
       "       7, 1, 7, 7, 4, 1, 1, 7, 1, 3, 1, 1, 1, 2, 2, 4, 7, 2, 7, 3, 1, 3, 4,\n",
       "       3, 2, 1, 1, 3, 7, 3, 3, 7, 1, 3, 2, 1, 2, 4, 1, 1, 1, 4, 3, 3, 7, 1,\n",
       "       7, 7, 3, 3, 1, 3, 1, 2, 3, 3, 1, 1, 2, 1, 2, 7, 2, 2, 1, 7, 1, 2, 7,\n",
       "       1, 2, 3, 2, 3, 7, 1, 2, 0, 6, 0, 6, 5, 5, 5, 0, 5, 0, 0, 6, 5, 0, 5,\n",
       "       0, 6, 6, 5, 0, 5, 5, 6, 0, 0, 6, 6, 5, 5, 0, 5, 5, 5, 5, 6, 0, 6, 5,\n",
       "       6, 5, 6, 0, 5, 0, 5, 0, 0, 5, 0, 5], dtype=int32)"
      ]
     },
     "execution_count": 36,
     "metadata": {},
     "output_type": "execute_result"
    }
   ],
   "source": [
    "km.predict(X)"
   ]
  },
  {
   "cell_type": "code",
   "execution_count": 57,
   "metadata": {
    "scrolled": true,
    "slideshow": {
     "slide_type": "subslide"
    }
   },
   "outputs": [
    {
     "data": {
      "text/html": [
       "<div>\n",
       "<style>\n",
       "    .dataframe thead tr:only-child th {\n",
       "        text-align: right;\n",
       "    }\n",
       "\n",
       "    .dataframe thead th {\n",
       "        text-align: left;\n",
       "    }\n",
       "\n",
       "    .dataframe tbody tr th {\n",
       "        vertical-align: top;\n",
       "    }\n",
       "</style>\n",
       "<table border=\"1\" class=\"dataframe\">\n",
       "  <thead>\n",
       "    <tr style=\"text-align: right;\">\n",
       "      <th></th>\n",
       "      <th>sepal length (cm)</th>\n",
       "      <th>sepal width (cm)</th>\n",
       "      <th>petal length (cm)</th>\n",
       "      <th>petal width (cm)</th>\n",
       "      <th>cluster</th>\n",
       "    </tr>\n",
       "  </thead>\n",
       "  <tbody>\n",
       "    <tr>\n",
       "      <th>0</th>\n",
       "      <td>5.1</td>\n",
       "      <td>3.5</td>\n",
       "      <td>1.4</td>\n",
       "      <td>0.2</td>\n",
       "      <td>7</td>\n",
       "    </tr>\n",
       "    <tr>\n",
       "      <th>1</th>\n",
       "      <td>4.9</td>\n",
       "      <td>3.0</td>\n",
       "      <td>1.4</td>\n",
       "      <td>0.2</td>\n",
       "      <td>0</td>\n",
       "    </tr>\n",
       "    <tr>\n",
       "      <th>2</th>\n",
       "      <td>4.7</td>\n",
       "      <td>3.2</td>\n",
       "      <td>1.3</td>\n",
       "      <td>0.2</td>\n",
       "      <td>0</td>\n",
       "    </tr>\n",
       "    <tr>\n",
       "      <th>3</th>\n",
       "      <td>4.6</td>\n",
       "      <td>3.1</td>\n",
       "      <td>1.5</td>\n",
       "      <td>0.2</td>\n",
       "      <td>0</td>\n",
       "    </tr>\n",
       "    <tr>\n",
       "      <th>4</th>\n",
       "      <td>5.0</td>\n",
       "      <td>3.6</td>\n",
       "      <td>1.4</td>\n",
       "      <td>0.2</td>\n",
       "      <td>7</td>\n",
       "    </tr>\n",
       "  </tbody>\n",
       "</table>\n",
       "</div>"
      ],
      "text/plain": [
       "   sepal length (cm)  sepal width (cm)  petal length (cm)  petal width (cm)  \\\n",
       "0                5.1               3.5                1.4               0.2   \n",
       "1                4.9               3.0                1.4               0.2   \n",
       "2                4.7               3.2                1.3               0.2   \n",
       "3                4.6               3.1                1.5               0.2   \n",
       "4                5.0               3.6                1.4               0.2   \n",
       "\n",
       "   cluster  \n",
       "0        7  \n",
       "1        0  \n",
       "2        0  \n",
       "3        0  \n",
       "4        7  "
      ]
     },
     "execution_count": 57,
     "metadata": {},
     "output_type": "execute_result"
    }
   ],
   "source": [
    "X.assign(cluster=km.labels_).head()"
   ]
  },
  {
   "cell_type": "code",
   "execution_count": 60,
   "metadata": {
    "collapsed": true,
    "slideshow": {
     "slide_type": "skip"
    }
   },
   "outputs": [],
   "source": [
    "from tqdm import tqdm_notebook"
   ]
  },
  {
   "cell_type": "code",
   "execution_count": 61,
   "metadata": {
    "slideshow": {
     "slide_type": "subslide"
    }
   },
   "outputs": [
    {
     "name": "stdout",
     "output_type": "stream",
     "text": [
      "\n"
     ]
    }
   ],
   "source": [
    "scores = []\n",
    "iterations = range(1, 30)\n",
    "for i in tqdm_notebook(iterations):\n",
    "    km = KMeans(n_clusters=i)\n",
    "    km.fit(X)\n",
    "    s = km.score(X)\n",
    "    scores.append(s)"
   ]
  },
  {
   "cell_type": "code",
   "execution_count": 62,
   "metadata": {
    "scrolled": true,
    "slideshow": {
     "slide_type": "subslide"
    }
   },
   "outputs": [
    {
     "data": {
      "text/plain": [
       "[<matplotlib.lines.Line2D at 0x11a42bbe0>]"
      ]
     },
     "execution_count": 62,
     "metadata": {},
     "output_type": "execute_result"
    },
    {
     "data": {
      "image/png": "[encoded data removed]",
      "text/plain": [
       "<matplotlib.figure.Figure at 0x11895bf28>"
      ]
     },
     "metadata": {},
     "output_type": "display_data"
    }
   ],
   "source": [
    "from matplotlib import pyplot as plt\n",
    "%matplotlib inline\n",
    "\n",
    "plt.figure(figsize=(17,5))\n",
    "plt.plot(iterations, scores, 'b*-')"
   ]
  },
  {
   "cell_type": "code",
   "execution_count": 66,
   "metadata": {
    "slideshow": {
     "slide_type": "subslide"
    }
   },
   "outputs": [
    {
     "name": "stdout",
     "output_type": "stream",
     "text": [
      "\n"
     ]
    },
    {
     "data": {
      "text/plain": [
       "<matplotlib.text.Text at 0x118ac4128>"
      ]
     },
     "execution_count": 66,
     "metadata": {},
     "output_type": "execute_result"
    },
    {
     "data": {
      "image/png": "[encoded data removed]",
      "text/plain": [
       "<matplotlib.figure.Figure at 0x1189a6278>"
      ]
     },
     "metadata": {},
     "output_type": "display_data"
    }
   ],
   "source": [
    "from sklearn.metrics import silhouette_score, silhouette_samples\n",
    "\n",
    "K = range(2,30)\n",
    "\n",
    "scores = []\n",
    "for k in tqdm_notebook(K):\n",
    "    kmeans = KMeans(n_clusters=k)\n",
    "    kmeans.fit(X)\n",
    "\n",
    "    labels = kmeans.labels_\n",
    "#     centroids = kmeans.cluster_centers_\n",
    "    score = silhouette_score(X, labels, metric='euclidean')\n",
    "    scores.append(score)\n",
    "\n",
    "plt.plot(K, scores)\n",
    "plt.ylabel(\"Silouette\")\n",
    "plt.xlabel(\"k\")\n",
    "plt.title(\"Silouette for K-means cell's behaviour\")"
   ]
  },
  {
   "cell_type": "markdown",
   "metadata": {},
   "source": [
    "# 참고자료 및 더 읽을거리\n",
    "\n",
    "- t-SNE : https://www.analyticsvidhya.com/blog/2017/01/t-sne-implementation-r-python/?utm_source=feedburner&utm_medium=email&utm_campaign=Feed%3A+AnalyticsVidhya+%28Analytics+Vidhya%29\n",
    "- DBSCAN : http://scikit-learn.org/stable/auto_examples/cluster/plot_dbscan.html\n",
    "- Gaussian Mixture model : http://scikit-learn.org/stable/modules/mixture.html\n",
    "- K-means는 가장 단순한 형태의 Expectation Maximization(EM) : https://en.wikipedia.org/wiki/Expectation%E2%80%93maximization_algorithm\n",
    "- Dendrogram : https://joernhees.de/blog/2015/08/26/scipy-hierarchical-clustering-and-dendrogram-tutorial/"
   ]
  }
 ],
 "metadata": {
  "anaconda-cloud": {},
  "celltoolbar": "Slideshow",
  "kernelspec": {
   "display_name": "Python [default]",
   "language": "python",
   "name": "python3"
  },
  "language_info": {
   "codemirror_mode": {
    "name": "ipython",
    "version": 3
   },
   "file_extension": ".py",
   "mimetype": "text/x-python",
   "name": "python",
   "nbconvert_exporter": "python",
   "pygments_lexer": "ipython3",
   "version": "3.5.2"
  },
  "widgets": {
   "state": {
    "0f8e225bffd742b283e6ca71eaf06847": {
     "views": [
      {
       "cell_index": 54
      }
     ]
    },
    "dfdbc4e9221c4ad497c4f9d5c799eeb2": {
     "views": [
      {
       "cell_index": 51
      }
     ]
    }
   },
   "version": "1.2.0"
  }
 },
 "nbformat": 4,
 "nbformat_minor": 2
}
