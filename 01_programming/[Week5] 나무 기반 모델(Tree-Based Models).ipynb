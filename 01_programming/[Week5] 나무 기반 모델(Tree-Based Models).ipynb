{
 "cells": [
  {
   "cell_type": "markdown",
   "metadata": {
    "slideshow": {
     "slide_type": "slide"
    }
   },
   "source": [
    "# 나무 기반 모델(Tree-Based Models)"
   ]
  },
  {
   "cell_type": "markdown",
   "metadata": {
    "slideshow": {
     "slide_type": "subslide"
    }
   },
   "source": [
    "* 회귀와 분류 문제에 모두 사용 가능\n",
    "* 예측변수 공간(predictor space)을 여러 개의 구역으로 구획(stratifying or segmenting)한다.\n",
    "* 새로운 데이터에 대해 예측하기 위해서는 그 데이터가 속한 구역에 있는 학습 데이터셋의 평균이나 최빈값을 이용한다.\n",
    "* 구역을 나누는 규칙을 나무(tree)로 표현할 수 있기 때문에, 이런 접근을 의사 결정 나무(decision tree)로 부른다."
   ]
  },
  {
   "cell_type": "markdown",
   "metadata": {
    "slideshow": {
     "slide_type": "subslide"
    }
   },
   "source": [
    "## (참고) 나무(tree)란\n",
    "\n",
    "  * 컴퓨터 과학에서는 점(nodes or vertices)와 연결선(edge)으로 이루어진 데이터 구조를 그래프(graph)라고 부른다.\n",
    "    * 그림으로 나타내는 플롯(plot)이라는 뜻의 그래프랑은 다르다.\n",
    "  * 자기 자신으로 다시 돌아오는 길(cycle)이 없고, 서로 다른 두 점을 잇는 길이 하나일 때 나무(tree)라고 부른다.\n",
    "\n",
    "![tree](https://upload.wikimedia.org/wikipedia/commons/thumb/f/f7/Binary_tree.svg/300px-Binary_tree.svg.png)"
   ]
  },
  {
   "cell_type": "markdown",
   "metadata": {
    "slideshow": {
     "slide_type": "subslide"
    }
   },
   "source": [
    "  * 최상위 노드를 뿌리 노드(root node)라고 부르고, 노드 A가 노드 B를 가리킬 때 A를 B의 **부모 노드**(parent node), B를 A의 **자식 노드**(child node)라고 한다.\n",
    "  * 자식 노드가 없는 노드를 **잎 노드**(leaf node or terminal node)라고 한다.  잎 노드가 아닌 노드를 **내부 노드**(internal node)라고 한다.\n",
    "  * 보통 트리는 뿌리 노드(root node)를 맨 위로, 잎 노드를 맨 아래에 두고 나무를 뒤집어서 그린다.\n",
    "  * 잎 노드가 아닌 노드가 자식 노드를 정확히 두개만 갖고 있을 때, 이런 트리를 이진 트리(binary tree)라고 부른다.\n",
    "  * 의사 결정 나무(decision tree)는 이진 트리(binary tree)이다."
   ]
  },
  {
   "cell_type": "markdown",
   "metadata": {
    "slideshow": {
     "slide_type": "subslide"
    }
   },
   "source": [
    "### 의사 결정 나무의 특징\n",
    "* 간단하고 해석하기 쉽다.\n",
    "* 정확도는 다소 낮다.\n",
    "* 배깅(bagging), 랜덤 포레스트(random forests), 부스팅(boosting) 등 앙상블 기법과 함께 자주 사용된다.\n",
    "* 수많은 의사 결정 나무를 결합하는 것이 성능을 크게 향상시킬 수 있다는 것을 보게 될 것이다.\n",
    "* 단, 의사 결정 나무의 갯수가 많으면 모델의 해석은 더 어려워진다."
   ]
  },
  {
   "cell_type": "markdown",
   "metadata": {
    "slideshow": {
     "slide_type": "subslide"
    }
   },
   "source": [
    "* 의사 결정 나무에 기반한 앙상블(ensemble) 기법은 머신 러닝에서 가장 널리 쓰이는 모델이다.  \n",
    "* 실제로, 2015년에 Kaggle에서 우승하고 알고리즘을 공개한 29개의 우승 모델 중, 17개의  모델이 나무 기반 앙상블 모델 중 하나인 [XGBoost](https://arxiv.org/pdf/1603.02754.pdf)라는 모델을 사용했다. "
   ]
  },
  {
   "cell_type": "markdown",
   "metadata": {
    "slideshow": {
     "slide_type": "slide"
    }
   },
   "source": [
    "# 의사 결정 나무 (Decision Trees)\n",
    "\n",
    "* 회귀와 분류 문제 모두에 적용할 수 있다.\n",
    "* 회귀 문제부터 보자."
   ]
  },
  {
   "cell_type": "markdown",
   "metadata": {
    "slideshow": {
     "slide_type": "subslide"
    }
   },
   "source": [
    "## 회귀 나무 (Regression Trees)"
   ]
  },
  {
   "cell_type": "markdown",
   "metadata": {
    "slideshow": {
     "slide_type": "subslide"
    }
   },
   "source": [
    "#### 예시 : 회귀 나무를 이용해서 야구 선수의 연봉을 예측하기\n",
    "야구 선수의 경력과 작년에 몇 번 공을 쳤는지를 이용해서 타자의 연봉을 예측하는 모델"
   ]
  },
  {
   "cell_type": "markdown",
   "metadata": {
    "slideshow": {
     "slide_type": "subslide"
    }
   },
   "source": [
    "![regression tree](https://files.slack.com/files-pri/T25783BPY-F61GKBZS7/screenshot.png?pub_secret=4aec3d86dd)"
   ]
  },
  {
   "cell_type": "markdown",
   "metadata": {
    "slideshow": {
     "slide_type": "fragment"
    }
   },
   "source": [
    "### 해석 \n",
    "경력이 4.5년이 안되는 야구선수는 연봉을 5.11을 받고, 경력이 4.5년보다 많은 야구 선수는 작년 타수가 117.5보다 작으면 6.00, 크면 6.74를 받는다."
   ]
  },
  {
   "cell_type": "markdown",
   "metadata": {
    "slideshow": {
     "slide_type": "notes"
    }
   },
   "source": [
    "* 정확히는 연봉의 log를 취한 값을 예측\n",
    "* 그래서 $1,000×e^{6.740} = $845,346 \n",
    "* 잎 노드에 있는 숫자는 학습 데이터 중에 해당 구역으로 떨어진 야구 선수들 연봉의 평균이다."
   ]
  },
  {
   "cell_type": "markdown",
   "metadata": {
    "slideshow": {
     "slide_type": "subslide"
    }
   },
   "source": [
    "![partitionn](https://files.slack.com/files-pri/T25783BPY-F612PHRK3/screenshot.png?pub_secret=8c0388dd27)\n",
    "\n",
    "세 구역은 다음과 같이 수학적으로 표현 가능하다.\n",
    "* R1 ={X | Years<4.5}\n",
    "* R2 ={X | Years>=4.5, Hits<117.5}\n",
    "* R3 ={X | Years>=4.5, Hits>=117.5}"
   ]
  },
  {
   "cell_type": "markdown",
   "metadata": {
    "slideshow": {
     "slide_type": "subslide"
    }
   },
   "source": [
    "### 해석\n",
    "  * 경력은 연봉을 결정하는 데 가장 중요한 요소이다.\n",
    "  * 경력이 적으면 연봉이 평균적으로 낮다.\n",
    "  * 야구선수의 경력이 적으면, 작년에 몇번 공을 쳤는지는 중요하지 않다.\n",
    "  * 그러나 야구선수의 경력이 5년 이상이면, 작년에 기록한 타수가 연봉에 영향을 미친다.\n",
    "  * 타수가 높은 타자는 다른 타자들보다 평균적으로 연봉을 많이 받는다."
   ]
  },
  {
   "cell_type": "markdown",
   "metadata": {
    "slideshow": {
     "slide_type": "notes"
    }
   },
   "source": [
    "* 아마 위의 모델은 현실을 설명하기에는 너무 단순한 모델일 것이다.\n",
    "* 그러나 다른 회귀 모형보다, 의사 결정 나무는 해석하기 쉽고 그리기 쉽다는 장점이 있다.\n",
    "* 예측 변수가 양적 변수(quantitative variable)이 아닌 질적 변수(qualitative)인 경우도 다룰 수 있다."
   ]
  },
  {
   "cell_type": "markdown",
   "metadata": {
    "slideshow": {
     "slide_type": "subslide"
    }
   },
   "source": [
    "### 회귀 나무(regression tree) 만들기\n",
    "\n",
    "![reg tree](http://scikit-learn.org/stable/_images/sphx_glr_plot_tree_regression_0011.png)"
   ]
  },
  {
   "cell_type": "markdown",
   "metadata": {
    "slideshow": {
     "slide_type": "subslide"
    }
   },
   "source": [
    "### 1. 예측 변수 공간(predictor space)을 J개의 서로 다른 구역으로 나눈다.\n",
    "\n",
    "예측 변수 공간(predictor space)이란 예측 변수 X1, X2, …, Xp가 취할 수 있는 값들의 조합을 말한다.\n",
    "\n",
    "우리의 목적은 RSS를 최소화하는 R1, …, RJ를 찾는 것이다.\n",
    "  $$\n",
    "  \\sum^J_{j=1}\\sum_{i \\in R_j}(y_i - \\hat{y}_{R_j})^2\n",
    "  $$\n",
    "\n",
    "우리는 예측 변수 공간을 고차원의 직사각형들(high dimensional rectanngles), 즉 박스들(boxes)로 나눈다."
   ]
  },
  {
   "cell_type": "markdown",
   "metadata": {
    "slideshow": {
     "slide_type": "notes"
    }
   },
   "source": [
    "### 직사각형인 이유\n",
    "\n",
    "영역은 어떤 모양이어도 되지만, 계산하기 어렵고 해석하기 어려워진다."
   ]
  },
  {
   "cell_type": "markdown",
   "metadata": {
    "slideshow": {
     "slide_type": "subslide"
    }
   },
   "source": [
    "### 구역을 나누는 방법\n",
    "\n",
    "recursive binary splitting이라는 top-down, greedy 접근 방식을 사용한다."
   ]
  },
  {
   "cell_type": "markdown",
   "metadata": {
    "slideshow": {
     "slide_type": "subslide"
    }
   },
   "source": [
    "### top-down\n",
    "\n",
    "  * 루트 노드에서 출발한다. \n",
    "  * 루트 노드에서 두 개로 나눈다.\n",
    "  * 그 뒤 이어서 내부 노드에서 예측 변수 공간을 나눈다."
   ]
  },
  {
   "cell_type": "markdown",
   "metadata": {
    "slideshow": {
     "slide_type": "subslide"
    }
   },
   "source": [
    "### greedy\n",
    "\n",
    "  * 각각의 단계에서 가장 좋은 구획을 잘 나누는 방법만을 택한다. \n",
    "  * 몇 단계 앞을 바라보고 지금은 별로라도 미래에 더 좋은 구획 나누기를 택하지 않는다."
   ]
  },
  {
   "cell_type": "markdown",
   "metadata": {
    "slideshow": {
     "slide_type": "subslide"
    }
   },
   "source": [
    "### 의사 결정 나무 만들기\n",
    "\n",
    "* Xj를 선택하고 나누는 기준(cutpoint) s를 선택해서 두 개의 구역으로 나눈다.\n",
    "\n",
    "* 그 구역에서 위에서 언급한대로 평균값을 이용해 예측을 수행한다.\n",
    "\n",
    "* 모든 예측 변수와 모든 가능한 나누는 기준(cutpoint)에 대해서 RSS를 구한다.\n",
    "\n",
    "* 이 때 기존보다 가장 RSS를 크게 낮추는 Xj와 s를 선택한다.\n",
    "\n",
    "* 그 다음에는, 나눠진 구역 중 하나에서 같은 일을 반복한다.\n",
    "\n",
    "* 이 일을 미리 정한 멈추는 기준(stoppinng criterion)이 도달할 때까지 반복한다.\n",
    "\n",
    "    * 예컨대, 모든 구역(region)에 학습 데이터가 5개 미만으로 남았을 때 그만둘 수 있다."
   ]
  },
  {
   "cell_type": "markdown",
   "metadata": {
    "slideshow": {
     "slide_type": "slide"
    }
   },
   "source": [
    "## 분류 나무 (Classification Trees)\n",
    "\n",
    "* 회귀 나무와 거의 유사하다.\n",
    "* 양적인(quantitative) 반응변수가 아닌 질적인(qualitative) 반응 변수를 사용한다.\n",
    "* 분류 나무에서, 예측은 그 구역에서 평균이 아닌 **가장 자주 등장하는 클래스**로 결정된다."
   ]
  },
  {
   "cell_type": "markdown",
   "metadata": {
    "slideshow": {
     "slide_type": "subslide"
    }
   },
   "source": [
    "### 분류 나무 만들기\n",
    "\n",
    "* 역시 회귀 나무와 거의 유사하다.\n",
    "\n",
    "* 다만 RSS는 더이상 쓸 수 없다."
   ]
  },
  {
   "cell_type": "markdown",
   "metadata": {
    "slideshow": {
     "slide_type": "subslide"
    }
   },
   "source": [
    "## RSS의 대체재"
   ]
  },
  {
   "cell_type": "markdown",
   "metadata": {
    "slideshow": {
     "slide_type": "subslide"
    }
   },
   "source": [
    "### classification error rate\n",
    "\n",
    "* 예측이 틀리는 비율\n",
    "\n",
    "* 가장 자주 등장하는 클래스로 예측하기 때문에, 단순히 그 구역에서 가장 자주 등장하는 클래스가 아닌 학습 데이터의 비율이 된다."
   ]
  },
  {
   "cell_type": "markdown",
   "metadata": {
    "slideshow": {
     "slide_type": "subslide"
    }
   },
   "source": [
    "### Gini index\n",
    "$$\n",
    "G = \\sum^K_{k=1}{\\hat{p}_{mk}}(1 - {\\hat{p}_{mk}})\n",
    "$$\n",
    "\n",
    "* ${\\hat{p}_{mk}}$ : m번째 구역에 있는 데이터 중 k번째 클래스에 해당하는 비율\n",
    "* K개의 클래스로 얼마나 퍼져 있는지 재는 방법\n",
    "* ${\\hat{p}_{mk}}$가 0이나 1에 가까우면 Gini index는 작아진다.\n",
    "* 그래서 Gini index를 노드의 순수성(purity)를 재는 지표라고 부르기도 한다."
   ]
  },
  {
   "cell_type": "markdown",
   "metadata": {
    "slideshow": {
     "slide_type": "subslide"
    }
   },
   "source": [
    "### cross-entropy\n",
    "\n",
    "$$\n",
    "D = -\\sum^K_{k=1}{\\hat{p}_{mk}}\\log{{\\hat{p}_{mk}}}\n",
    "$$\n",
    "\n",
    "0보다 같거나 크다.\n",
    "\n",
    "$$\n",
    "0 \\leq\\hat{p}_{mk} \\leq 1\n",
    "$$\n",
    "\n",
    "이기 때문에,\n",
    "\n",
    "$$\n",
    "0 \\leq -\\hat{p}_{mk}\\log{\\hat{p}_{mk}}\n",
    "$$\n",
    "\n",
    "이다.\n",
    "\n",
    "* $\\hat{p}_{mk}$가 모두 0이나 1에 가까울 때, cross-entropy는 0에 가까운 값을 가진다.\n",
    "\n",
    "* Gini index처럼, cross-entropy도 노드가 순수할 때(purity) 0에 가까운 값을 가진다.\n",
    "\n",
    "* Gini index와 cross-entropy 계산했을 때 거의 비슷한 값을 가진다."
   ]
  },
  {
   "cell_type": "markdown",
   "metadata": {
    "slideshow": {
     "slide_type": "subslide"
    }
   },
   "source": [
    "트리를 만들 때, 보통 Gini index나 cross-entropy를 주로 사용한다.\n",
    "\n",
    "* classification error rate에 비해서 노드가 얼마나 순수한지에 더 민감하기 때문."
   ]
  },
  {
   "cell_type": "markdown",
   "metadata": {
    "slideshow": {
     "slide_type": "slide"
    }
   },
   "source": [
    "## 트리(Trees)와 선형 모델(Linear Models)의 비교\n",
    "\n",
    "* 어떤 모델이 더 좋을지는 주어진 문제에 달려있다.\n",
    "* 특징 변수(features)와 반응 변수(responnse)의 관계가 선형적이면, 선형 회귀가 잘 동작한다.\n",
    "* 특징 변수(features)와 반응 변수(responnse)의 관계가 심하게 비선형적이면, 의사 결정 모델이 더 잘할 수 있다."
   ]
  },
  {
   "cell_type": "markdown",
   "metadata": {
    "slideshow": {
     "slide_type": "subslide"
    }
   },
   "source": [
    "![tree vs. linear](https://files.slack.com/files-pri/T25783BPY-F61LVAA2W/screenshot.png?pub_secret=3a3a5bd690)"
   ]
  },
  {
   "cell_type": "markdown",
   "metadata": {
    "slideshow": {
     "slide_type": "subslide"
    }
   },
   "source": [
    "* 정확도가 목적의 전부가 아닌 경우, 시각화나 해석 가능성 등의 이유로 트리 모델을 선택할 수도 있다."
   ]
  },
  {
   "cell_type": "markdown",
   "metadata": {
    "slideshow": {
     "slide_type": "slide"
    }
   },
   "source": [
    "# In code"
   ]
  },
  {
   "cell_type": "code",
   "execution_count": 5,
   "metadata": {
    "slideshow": {
     "slide_type": "skip"
    }
   },
   "outputs": [
    {
     "name": "stdout",
     "output_type": "stream",
     "text": [
      "Breast Cancer Wisconsin (Diagnostic) Database\n",
      "=============================================\n",
      "\n",
      "Notes\n",
      "-----\n",
      "Data Set Characteristics:\n",
      "    :Number of Instances: 569\n",
      "\n",
      "    :Number of Attributes: 30 numeric, predictive attributes and the class\n",
      "\n",
      "    :Attribute Information:\n",
      "        - radius (mean of distances from center to points on the perimeter)\n",
      "        - texture (standard deviation of gray-scale values)\n",
      "        - perimeter\n",
      "        - area\n",
      "        - smoothness (local variation in radius lengths)\n",
      "        - compactness (perimeter^2 / area - 1.0)\n",
      "        - concavity (severity of concave portions of the contour)\n",
      "        - concave points (number of concave portions of the contour)\n",
      "        - symmetry \n",
      "        - fractal dimension (\"coastline approximation\" - 1)\n",
      "\n",
      "        The mean, standard error, and \"worst\" or largest (mean of the three\n",
      "        largest values) of these features were computed for each image,\n",
      "        resulting in 30 features.  For instance, field 3 is Mean Radius, field\n",
      "        13 is Radius SE, field 23 is Worst Radius.\n",
      "\n",
      "        - class:\n",
      "                - WDBC-Malignant\n",
      "                - WDBC-Benign\n",
      "\n",
      "    :Summary Statistics:\n",
      "\n",
      "    ===================================== ====== ======\n",
      "                                           Min    Max\n",
      "    ===================================== ====== ======\n",
      "    radius (mean):                        6.981  28.11\n",
      "    texture (mean):                       9.71   39.28\n",
      "    perimeter (mean):                     43.79  188.5\n",
      "    area (mean):                          143.5  2501.0\n",
      "    smoothness (mean):                    0.053  0.163\n",
      "    compactness (mean):                   0.019  0.345\n",
      "    concavity (mean):                     0.0    0.427\n",
      "    concave points (mean):                0.0    0.201\n",
      "    symmetry (mean):                      0.106  0.304\n",
      "    fractal dimension (mean):             0.05   0.097\n",
      "    radius (standard error):              0.112  2.873\n",
      "    texture (standard error):             0.36   4.885\n",
      "    perimeter (standard error):           0.757  21.98\n",
      "    area (standard error):                6.802  542.2\n",
      "    smoothness (standard error):          0.002  0.031\n",
      "    compactness (standard error):         0.002  0.135\n",
      "    concavity (standard error):           0.0    0.396\n",
      "    concave points (standard error):      0.0    0.053\n",
      "    symmetry (standard error):            0.008  0.079\n",
      "    fractal dimension (standard error):   0.001  0.03\n",
      "    radius (worst):                       7.93   36.04\n",
      "    texture (worst):                      12.02  49.54\n",
      "    perimeter (worst):                    50.41  251.2\n",
      "    area (worst):                         185.2  4254.0\n",
      "    smoothness (worst):                   0.071  0.223\n",
      "    compactness (worst):                  0.027  1.058\n",
      "    concavity (worst):                    0.0    1.252\n",
      "    concave points (worst):               0.0    0.291\n",
      "    symmetry (worst):                     0.156  0.664\n",
      "    fractal dimension (worst):            0.055  0.208\n",
      "    ===================================== ====== ======\n",
      "\n",
      "    :Missing Attribute Values: None\n",
      "\n",
      "    :Class Distribution: 212 - Malignant, 357 - Benign\n",
      "\n",
      "    :Creator:  Dr. William H. Wolberg, W. Nick Street, Olvi L. Mangasarian\n",
      "\n",
      "    :Donor: Nick Street\n",
      "\n",
      "    :Date: November, 1995\n",
      "\n",
      "This is a copy of UCI ML Breast Cancer Wisconsin (Diagnostic) datasets.\n",
      "https://goo.gl/U2Uwz2\n",
      "\n",
      "Features are computed from a digitized image of a fine needle\n",
      "aspirate (FNA) of a breast mass.  They describe\n",
      "characteristics of the cell nuclei present in the image.\n",
      "\n",
      "Separating plane described above was obtained using\n",
      "Multisurface Method-Tree (MSM-T) [K. P. Bennett, \"Decision Tree\n",
      "Construction Via Linear Programming.\" Proceedings of the 4th\n",
      "Midwest Artificial Intelligence and Cognitive Science Society,\n",
      "pp. 97-101, 1992], a classification method which uses linear\n",
      "programming to construct a decision tree.  Relevant features\n",
      "were selected using an exhaustive search in the space of 1-4\n",
      "features and 1-3 separating planes.\n",
      "\n",
      "The actual linear program used to obtain the separating plane\n",
      "in the 3-dimensional space is that described in:\n",
      "[K. P. Bennett and O. L. Mangasarian: \"Robust Linear\n",
      "Programming Discrimination of Two Linearly Inseparable Sets\",\n",
      "Optimization Methods and Software 1, 1992, 23-34].\n",
      "\n",
      "This database is also available through the UW CS ftp server:\n",
      "\n",
      "ftp ftp.cs.wisc.edu\n",
      "cd math-prog/cpo-dataset/machine-learn/WDBC/\n",
      "\n",
      "References\n",
      "----------\n",
      "   - W.N. Street, W.H. Wolberg and O.L. Mangasarian. Nuclear feature extraction \n",
      "     for breast tumor diagnosis. IS&T/SPIE 1993 International Symposium on \n",
      "     Electronic Imaging: Science and Technology, volume 1905, pages 861-870,\n",
      "     San Jose, CA, 1993.\n",
      "   - O.L. Mangasarian, W.N. Street and W.H. Wolberg. Breast cancer diagnosis and \n",
      "     prognosis via linear programming. Operations Research, 43(4), pages 570-577, \n",
      "     July-August 1995.\n",
      "   - W.H. Wolberg, W.N. Street, and O.L. Mangasarian. Machine learning techniques\n",
      "     to diagnose breast cancer from fine-needle aspirates. Cancer Letters 77 (1994) \n",
      "     163-171.\n",
      "\n"
     ]
    }
   ],
   "source": [
    "from sklearn.datasets import load_breast_cancer\n",
    "\n",
    "breast_cancer = load_breast_cancer()\n",
    "\n",
    "print(breast_cancer.DESCR)\n",
    "\n",
    "import pandas as pd\n",
    "\n",
    "data = pd.DataFrame(breast_cancer.data, columns=breast_cancer.feature_names)\n",
    "data['malignant'] = 1 - breast_cancer.target # 0 for malignant and 1 for benign in the original dataset"
   ]
  },
  {
   "cell_type": "code",
   "execution_count": 13,
   "metadata": {
    "slideshow": {
     "slide_type": "subslide"
    }
   },
   "outputs": [],
   "source": [
    "X_train = data.drop('malignant', axis=1)\n",
    "y = data['malignant']"
   ]
  },
  {
   "cell_type": "code",
   "execution_count": 14,
   "metadata": {},
   "outputs": [],
   "source": [
    "from sklearn.tree import DecisionTreeClassifier, export_graphviz"
   ]
  },
  {
   "cell_type": "code",
   "execution_count": 15,
   "metadata": {},
   "outputs": [
    {
     "data": {
      "text/plain": [
       "DecisionTreeClassifier(class_weight=None, criterion='gini', max_depth=3,\n",
       "            max_features=None, max_leaf_nodes=None,\n",
       "            min_impurity_decrease=0.0, min_impurity_split=None,\n",
       "            min_samples_leaf=1, min_samples_split=2,\n",
       "            min_weight_fraction_leaf=0.0, presort=False, random_state=None,\n",
       "            splitter='best')"
      ]
     },
     "execution_count": 15,
     "metadata": {},
     "output_type": "execute_result"
    }
   ],
   "source": [
    "model = DecisionTreeClassifier(max_depth=3)\n",
    "model.fit(x, y)"
   ]
  },
  {
   "cell_type": "code",
   "execution_count": 20,
   "metadata": {},
   "outputs": [
    {
     "data": {
      "text/plain": [
       "0.97891036906854134"
      ]
     },
     "execution_count": 20,
     "metadata": {},
     "output_type": "execute_result"
    }
   ],
   "source": [
    "model.score(x, y)"
   ]
  },
  {
   "cell_type": "code",
   "execution_count": 17,
   "metadata": {
    "slideshow": {
     "slide_type": "subslide"
    }
   },
   "outputs": [],
   "source": [
    "dot_data = export_graphviz(model, out_file=None, \n",
    "                         feature_names=X_train.columns,  \n",
    "                         class_names=['not malignant', 'malignant'],  \n",
    "                         filled=True, rounded=True,  \n",
    "                         special_characters=True, impurity=False, proportion=True)  "
   ]
  },
  {
   "cell_type": "code",
   "execution_count": 18,
   "metadata": {},
   "outputs": [],
   "source": [
    "import graphviz "
   ]
  },
  {
   "cell_type": "code",
   "execution_count": 19,
   "metadata": {
    "slideshow": {
     "slide_type": "subslide"
    }
   },
   "outputs": [
    {
     "data": {
      "image/svg+xml": [
       "<?xml version=\"1.0\" encoding=\"UTF-8\" standalone=\"no\"?>\n",
       "<!DOCTYPE svg PUBLIC \"-//W3C//DTD SVG 1.1//EN\"\n",
       " \"http://www.w3.org/Graphics/SVG/1.1/DTD/svg11.dtd\">\n",
       "<!-- Generated by graphviz version 2.36.0 (20140111.2315)\n",
       " -->\n",
       "<!-- Title: Tree Pages: 1 -->\n",
       "<svg width=\"1279pt\" height=\"358pt\"\n",
       " viewBox=\"0.00 0.00 1279.00 358.00\" xmlns=\"http://www.w3.org/2000/svg\" xmlns:xlink=\"http://www.w3.org/1999/xlink\">\n",
       "<g id=\"graph0\" class=\"graph\" transform=\"scale(1 1) rotate(0) translate(4 354)\">\n",
       "<title>Tree</title>\n",
       "<polygon fill=\"white\" stroke=\"none\" points=\"-4,4 -4,-354 1275,-354 1275,4 -4,4\"/>\n",
       "<!-- 0 -->\n",
       "<g id=\"node1\" class=\"node\"><title>0</title>\n",
       "<path fill=\"#e58139\" fill-opacity=\"0.407843\" stroke=\"black\" d=\"M701.288,-350C701.288,-350 574.712,-350 574.712,-350 568.712,-350 562.712,-344 562.712,-338 562.712,-338 562.712,-298 562.712,-298 562.712,-292 568.712,-286 574.712,-286 574.712,-286 701.288,-286 701.288,-286 707.288,-286 713.288,-292 713.288,-298 713.288,-298 713.288,-338 713.288,-338 713.288,-344 707.288,-350 701.288,-350\"/>\n",
       "<text text-anchor=\"start\" x=\"571.124\" y=\"-334.8\" font-family=\"Helvetica,sans-Serif\" font-size=\"14.00\">worst radius ≤ 16.795</text>\n",
       "<text text-anchor=\"start\" x=\"580.216\" y=\"-320.8\" font-family=\"Helvetica,sans-Serif\" font-size=\"14.00\">samples = 100.0%</text>\n",
       "<text text-anchor=\"start\" x=\"570.475\" y=\"-306.8\" font-family=\"Helvetica,sans-Serif\" font-size=\"14.00\">value = [0.627, 0.373]</text>\n",
       "<text text-anchor=\"start\" x=\"572.047\" y=\"-292.8\" font-family=\"Helvetica,sans-Serif\" font-size=\"14.00\">class = not malignant</text>\n",
       "</g>\n",
       "<!-- 1 -->\n",
       "<g id=\"node2\" class=\"node\"><title>1</title>\n",
       "<path fill=\"#e58139\" fill-opacity=\"0.905882\" stroke=\"black\" d=\"M594.42,-250C594.42,-250 421.58,-250 421.58,-250 415.58,-250 409.58,-244 409.58,-238 409.58,-238 409.58,-198 409.58,-198 409.58,-192 415.58,-186 421.58,-186 421.58,-186 594.42,-186 594.42,-186 600.42,-186 606.42,-192 606.42,-198 606.42,-198 606.42,-238 606.42,-238 606.42,-244 600.42,-250 594.42,-250\"/>\n",
       "<text text-anchor=\"start\" x=\"417.386\" y=\"-234.8\" font-family=\"Helvetica,sans-Serif\" font-size=\"14.00\">worst concave points ≤ 0.136</text>\n",
       "<text text-anchor=\"start\" x=\"454.109\" y=\"-220.8\" font-family=\"Helvetica,sans-Serif\" font-size=\"14.00\">samples = 66.6%</text>\n",
       "<text text-anchor=\"start\" x=\"440.475\" y=\"-206.8\" font-family=\"Helvetica,sans-Serif\" font-size=\"14.00\">value = [0.913, 0.087]</text>\n",
       "<text text-anchor=\"start\" x=\"442.047\" y=\"-192.8\" font-family=\"Helvetica,sans-Serif\" font-size=\"14.00\">class = not malignant</text>\n",
       "</g>\n",
       "<!-- 0&#45;&gt;1 -->\n",
       "<g id=\"edge1\" class=\"edge\"><title>0&#45;&gt;1</title>\n",
       "<path fill=\"none\" stroke=\"black\" d=\"M596.867,-285.992C584.301,-276.519 570.352,-266.004 557.301,-256.165\"/>\n",
       "<polygon fill=\"black\" stroke=\"black\" points=\"559.404,-253.367 549.311,-250.142 555.19,-258.957 559.404,-253.367\"/>\n",
       "<text text-anchor=\"middle\" x=\"552.786\" y=\"-270.7\" font-family=\"Helvetica,sans-Serif\" font-size=\"14.00\">True</text>\n",
       "</g>\n",
       "<!-- 8 -->\n",
       "<g id=\"node9\" class=\"node\"><title>8</title>\n",
       "<path fill=\"#399de5\" fill-opacity=\"0.937255\" stroke=\"black\" d=\"M831.288,-250C831.288,-250 704.712,-250 704.712,-250 698.712,-250 692.712,-244 692.712,-238 692.712,-238 692.712,-198 692.712,-198 692.712,-192 698.712,-186 704.712,-186 704.712,-186 831.288,-186 831.288,-186 837.288,-186 843.288,-192 843.288,-198 843.288,-198 843.288,-238 843.288,-238 843.288,-244 837.288,-250 831.288,-250\"/>\n",
       "<text text-anchor=\"start\" x=\"702.683\" y=\"-234.8\" font-family=\"Helvetica,sans-Serif\" font-size=\"14.00\">worst texture ≤ 19.91</text>\n",
       "<text text-anchor=\"start\" x=\"714.109\" y=\"-220.8\" font-family=\"Helvetica,sans-Serif\" font-size=\"14.00\">samples = 33.4%</text>\n",
       "<text text-anchor=\"start\" x=\"700.475\" y=\"-206.8\" font-family=\"Helvetica,sans-Serif\" font-size=\"14.00\">value = [0.058, 0.942]</text>\n",
       "<text text-anchor=\"start\" x=\"713.723\" y=\"-192.8\" font-family=\"Helvetica,sans-Serif\" font-size=\"14.00\">class = malignant</text>\n",
       "</g>\n",
       "<!-- 0&#45;&gt;8 -->\n",
       "<g id=\"edge8\" class=\"edge\"><title>0&#45;&gt;8</title>\n",
       "<path fill=\"none\" stroke=\"black\" d=\"M679.133,-285.992C691.699,-276.519 705.648,-266.004 718.699,-256.165\"/>\n",
       "<polygon fill=\"black\" stroke=\"black\" points=\"720.81,-258.957 726.689,-250.142 716.596,-253.367 720.81,-258.957\"/>\n",
       "<text text-anchor=\"middle\" x=\"723.214\" y=\"-270.7\" font-family=\"Helvetica,sans-Serif\" font-size=\"14.00\">False</text>\n",
       "</g>\n",
       "<!-- 2 -->\n",
       "<g id=\"node3\" class=\"node\"><title>2</title>\n",
       "<path fill=\"#e58139\" fill-opacity=\"0.984314\" stroke=\"black\" d=\"M285.956,-150C285.956,-150 150.044,-150 150.044,-150 144.044,-150 138.044,-144 138.044,-138 138.044,-138 138.044,-98 138.044,-98 138.044,-92 144.044,-86 150.044,-86 150.044,-86 285.956,-86 285.956,-86 291.956,-86 297.956,-92 297.956,-98 297.956,-98 297.956,-138 297.956,-138 297.956,-144 291.956,-150 285.956,-150\"/>\n",
       "<text text-anchor=\"start\" x=\"145.696\" y=\"-134.8\" font-family=\"Helvetica,sans-Serif\" font-size=\"14.00\">symmetry error ≤ 0.009</text>\n",
       "<text text-anchor=\"start\" x=\"164.109\" y=\"-120.8\" font-family=\"Helvetica,sans-Serif\" font-size=\"14.00\">samples = 58.5%</text>\n",
       "<text text-anchor=\"start\" x=\"150.475\" y=\"-106.8\" font-family=\"Helvetica,sans-Serif\" font-size=\"14.00\">value = [0.985, 0.015]</text>\n",
       "<text text-anchor=\"start\" x=\"152.047\" y=\"-92.8\" font-family=\"Helvetica,sans-Serif\" font-size=\"14.00\">class = not malignant</text>\n",
       "</g>\n",
       "<!-- 1&#45;&gt;2 -->\n",
       "<g id=\"edge2\" class=\"edge\"><title>1&#45;&gt;2</title>\n",
       "<path fill=\"none\" stroke=\"black\" d=\"M416.242,-185.992C381.659,-174.306 342.384,-161.033 307.967,-149.403\"/>\n",
       "<polygon fill=\"black\" stroke=\"black\" points=\"308.99,-146.054 298.396,-146.168 306.749,-152.686 308.99,-146.054\"/>\n",
       "</g>\n",
       "<!-- 5 -->\n",
       "<g id=\"node6\" class=\"node\"><title>5</title>\n",
       "<path fill=\"#399de5\" fill-opacity=\"0.356863\" stroke=\"black\" d=\"M571.288,-150C571.288,-150 444.712,-150 444.712,-150 438.712,-150 432.712,-144 432.712,-138 432.712,-138 432.712,-98 432.712,-98 432.712,-92 438.712,-86 444.712,-86 444.712,-86 571.288,-86 571.288,-86 577.288,-86 583.288,-92 583.288,-98 583.288,-98 583.288,-138 583.288,-138 583.288,-144 577.288,-150 571.288,-150\"/>\n",
       "<text text-anchor=\"start\" x=\"442.683\" y=\"-134.8\" font-family=\"Helvetica,sans-Serif\" font-size=\"14.00\">worst texture ≤ 25.67</text>\n",
       "<text text-anchor=\"start\" x=\"458.002\" y=\"-120.8\" font-family=\"Helvetica,sans-Serif\" font-size=\"14.00\">samples = 8.1%</text>\n",
       "<text text-anchor=\"start\" x=\"440.475\" y=\"-106.8\" font-family=\"Helvetica,sans-Serif\" font-size=\"14.00\">value = [0.391, 0.609]</text>\n",
       "<text text-anchor=\"start\" x=\"453.723\" y=\"-92.8\" font-family=\"Helvetica,sans-Serif\" font-size=\"14.00\">class = malignant</text>\n",
       "</g>\n",
       "<!-- 1&#45;&gt;5 -->\n",
       "<g id=\"edge5\" class=\"edge\"><title>1&#45;&gt;5</title>\n",
       "<path fill=\"none\" stroke=\"black\" d=\"M508,-185.992C508,-177.859 508,-168.959 508,-160.378\"/>\n",
       "<polygon fill=\"black\" stroke=\"black\" points=\"511.5,-160.142 508,-150.142 504.5,-160.142 511.5,-160.142\"/>\n",
       "</g>\n",
       "<!-- 3 -->\n",
       "<g id=\"node4\" class=\"node\"><title>3</title>\n",
       "<path fill=\"#399de5\" stroke=\"black\" d=\"M111.917,-50C111.917,-50 12.0827,-50 12.0827,-50 6.0827,-50 0.0826971,-44 0.0826971,-38 0.0826971,-38 0.0826971,-12 0.0826971,-12 0.0826971,-6 6.0827,-0 12.0827,-0 12.0827,-0 111.917,-0 111.917,-0 117.917,-0 123.917,-6 123.917,-12 123.917,-12 123.917,-38 123.917,-38 123.917,-44 117.917,-50 111.917,-50\"/>\n",
       "<text text-anchor=\"start\" x=\"12.002\" y=\"-34.8\" font-family=\"Helvetica,sans-Serif\" font-size=\"14.00\">samples = 0.2%</text>\n",
       "<text text-anchor=\"start\" x=\"10.0469\" y=\"-20.8\" font-family=\"Helvetica,sans-Serif\" font-size=\"14.00\">value = [0.0, 1.0]</text>\n",
       "<text text-anchor=\"start\" x=\"7.72266\" y=\"-6.8\" font-family=\"Helvetica,sans-Serif\" font-size=\"14.00\">class = malignant</text>\n",
       "</g>\n",
       "<!-- 2&#45;&gt;3 -->\n",
       "<g id=\"edge3\" class=\"edge\"><title>2&#45;&gt;3</title>\n",
       "<path fill=\"none\" stroke=\"black\" d=\"M164.75,-85.9375C147.77,-76.0324 129.044,-65.109 112.281,-55.3308\"/>\n",
       "<polygon fill=\"black\" stroke=\"black\" points=\"113.596,-52.0456 103.194,-50.0301 110.069,-58.0921 113.596,-52.0456\"/>\n",
       "</g>\n",
       "<!-- 4 -->\n",
       "<g id=\"node5\" class=\"node\"><title>4</title>\n",
       "<path fill=\"#e58139\" fill-opacity=\"0.988235\" stroke=\"black\" d=\"M281.288,-50C281.288,-50 154.712,-50 154.712,-50 148.712,-50 142.712,-44 142.712,-38 142.712,-38 142.712,-12 142.712,-12 142.712,-6 148.712,-0 154.712,-0 154.712,-0 281.288,-0 281.288,-0 287.288,-0 293.288,-6 293.288,-12 293.288,-12 293.288,-38 293.288,-38 293.288,-44 287.288,-50 281.288,-50\"/>\n",
       "<text text-anchor=\"start\" x=\"164.109\" y=\"-34.8\" font-family=\"Helvetica,sans-Serif\" font-size=\"14.00\">samples = 58.3%</text>\n",
       "<text text-anchor=\"start\" x=\"150.475\" y=\"-20.8\" font-family=\"Helvetica,sans-Serif\" font-size=\"14.00\">value = [0.988, 0.012]</text>\n",
       "<text text-anchor=\"start\" x=\"152.047\" y=\"-6.8\" font-family=\"Helvetica,sans-Serif\" font-size=\"14.00\">class = not malignant</text>\n",
       "</g>\n",
       "<!-- 2&#45;&gt;4 -->\n",
       "<g id=\"edge4\" class=\"edge\"><title>2&#45;&gt;4</title>\n",
       "<path fill=\"none\" stroke=\"black\" d=\"M218,-85.9375C218,-77.6833 218,-68.7219 218,-60.3053\"/>\n",
       "<polygon fill=\"black\" stroke=\"black\" points=\"221.5,-60.03 218,-50.0301 214.5,-60.0301 221.5,-60.03\"/>\n",
       "</g>\n",
       "<!-- 6 -->\n",
       "<g id=\"node7\" class=\"node\"><title>6</title>\n",
       "<path fill=\"#e58139\" fill-opacity=\"0.733333\" stroke=\"black\" d=\"M450.014,-50C450.014,-50 323.986,-50 323.986,-50 317.986,-50 311.986,-44 311.986,-38 311.986,-38 311.986,-12 311.986,-12 311.986,-6 317.986,-0 323.986,-0 323.986,-0 450.014,-0 450.014,-0 456.014,-0 462.014,-6 462.014,-12 462.014,-12 462.014,-38 462.014,-38 462.014,-44 456.014,-50 450.014,-50\"/>\n",
       "<text text-anchor=\"start\" x=\"337.002\" y=\"-34.8\" font-family=\"Helvetica,sans-Serif\" font-size=\"14.00\">samples = 3.3%</text>\n",
       "<text text-anchor=\"start\" x=\"319.991\" y=\"-20.8\" font-family=\"Helvetica,sans-Serif\" font-size=\"14.00\">value = [0.789, 0.211]</text>\n",
       "<text text-anchor=\"start\" x=\"321.047\" y=\"-6.8\" font-family=\"Helvetica,sans-Serif\" font-size=\"14.00\">class = not malignant</text>\n",
       "</g>\n",
       "<!-- 5&#45;&gt;6 -->\n",
       "<g id=\"edge6\" class=\"edge\"><title>5&#45;&gt;6</title>\n",
       "<path fill=\"none\" stroke=\"black\" d=\"M466.697,-85.9375C453.892,-76.3076 439.808,-65.7151 427.087,-56.1483\"/>\n",
       "<polygon fill=\"black\" stroke=\"black\" points=\"429.048,-53.2434 418.952,-50.0301 424.84,-58.8379 429.048,-53.2434\"/>\n",
       "</g>\n",
       "<!-- 7 -->\n",
       "<g id=\"node8\" class=\"node\"><title>7</title>\n",
       "<path fill=\"#399de5\" fill-opacity=\"0.874510\" stroke=\"black\" d=\"M617.24,-50C617.24,-50 492.76,-50 492.76,-50 486.76,-50 480.76,-44 480.76,-38 480.76,-38 480.76,-12 480.76,-12 480.76,-6 486.76,-0 492.76,-0 492.76,-0 617.24,-0 617.24,-0 623.24,-0 629.24,-6 629.24,-12 629.24,-12 629.24,-38 629.24,-38 629.24,-44 623.24,-50 617.24,-50\"/>\n",
       "<text text-anchor=\"start\" x=\"505.002\" y=\"-34.8\" font-family=\"Helvetica,sans-Serif\" font-size=\"14.00\">samples = 4.7%</text>\n",
       "<text text-anchor=\"start\" x=\"488.507\" y=\"-20.8\" font-family=\"Helvetica,sans-Serif\" font-size=\"14.00\">value = [0.111, 0.889]</text>\n",
       "<text text-anchor=\"start\" x=\"500.723\" y=\"-6.8\" font-family=\"Helvetica,sans-Serif\" font-size=\"14.00\">class = malignant</text>\n",
       "</g>\n",
       "<!-- 5&#45;&gt;7 -->\n",
       "<g id=\"edge7\" class=\"edge\"><title>5&#45;&gt;7</title>\n",
       "<path fill=\"none\" stroke=\"black\" d=\"M524.043,-85.9375C528.496,-77.3164 533.347,-67.9239 537.86,-59.1865\"/>\n",
       "<polygon fill=\"black\" stroke=\"black\" points=\"541.11,-60.5211 542.589,-50.0301 534.89,-57.3089 541.11,-60.5211\"/>\n",
       "</g>\n",
       "<!-- 9 -->\n",
       "<g id=\"node10\" class=\"node\"><title>9</title>\n",
       "<path fill=\"#e58139\" fill-opacity=\"0.109804\" stroke=\"black\" d=\"M835.228,-150C835.228,-150 700.772,-150 700.772,-150 694.772,-150 688.772,-144 688.772,-138 688.772,-138 688.772,-98 688.772,-98 688.772,-92 694.772,-86 700.772,-86 700.772,-86 835.228,-86 835.228,-86 841.228,-86 847.228,-92 847.228,-98 847.228,-98 847.228,-138 847.228,-138 847.228,-144 841.228,-150 835.228,-150\"/>\n",
       "<text text-anchor=\"start\" x=\"696.848\" y=\"-134.8\" font-family=\"Helvetica,sans-Serif\" font-size=\"14.00\">concavity error ≤ 0.034</text>\n",
       "<text text-anchor=\"start\" x=\"718.002\" y=\"-120.8\" font-family=\"Helvetica,sans-Serif\" font-size=\"14.00\">samples = 3.0%</text>\n",
       "<text text-anchor=\"start\" x=\"700.475\" y=\"-106.8\" font-family=\"Helvetica,sans-Serif\" font-size=\"14.00\">value = [0.529, 0.471]</text>\n",
       "<text text-anchor=\"start\" x=\"702.047\" y=\"-92.8\" font-family=\"Helvetica,sans-Serif\" font-size=\"14.00\">class = not malignant</text>\n",
       "</g>\n",
       "<!-- 8&#45;&gt;9 -->\n",
       "<g id=\"edge9\" class=\"edge\"><title>8&#45;&gt;9</title>\n",
       "<path fill=\"none\" stroke=\"black\" d=\"M768,-185.992C768,-177.859 768,-168.959 768,-160.378\"/>\n",
       "<polygon fill=\"black\" stroke=\"black\" points=\"771.5,-160.142 768,-150.142 764.5,-160.142 771.5,-160.142\"/>\n",
       "</g>\n",
       "<!-- 12 -->\n",
       "<g id=\"node13\" class=\"node\"><title>12</title>\n",
       "<path fill=\"#399de5\" fill-opacity=\"0.988235\" stroke=\"black\" d=\"M1106.49,-150C1106.49,-150 951.512,-150 951.512,-150 945.512,-150 939.512,-144 939.512,-138 939.512,-138 939.512,-98 939.512,-98 939.512,-92 945.512,-86 951.512,-86 951.512,-86 1106.49,-86 1106.49,-86 1112.49,-86 1118.49,-92 1118.49,-98 1118.49,-98 1118.49,-138 1118.49,-138 1118.49,-144 1112.49,-150 1106.49,-150\"/>\n",
       "<text text-anchor=\"start\" x=\"947.341\" y=\"-134.8\" font-family=\"Helvetica,sans-Serif\" font-size=\"14.00\">worst smoothness ≤ 0.088</text>\n",
       "<text text-anchor=\"start\" x=\"975.109\" y=\"-120.8\" font-family=\"Helvetica,sans-Serif\" font-size=\"14.00\">samples = 30.4%</text>\n",
       "<text text-anchor=\"start\" x=\"961.475\" y=\"-106.8\" font-family=\"Helvetica,sans-Serif\" font-size=\"14.00\">value = [0.012, 0.988]</text>\n",
       "<text text-anchor=\"start\" x=\"974.723\" y=\"-92.8\" font-family=\"Helvetica,sans-Serif\" font-size=\"14.00\">class = malignant</text>\n",
       "</g>\n",
       "<!-- 8&#45;&gt;12 -->\n",
       "<g id=\"edge12\" class=\"edge\"><title>8&#45;&gt;12</title>\n",
       "<path fill=\"none\" stroke=\"black\" d=\"M843.492,-188.654C872.69,-177.691 906.385,-165.039 936.98,-153.551\"/>\n",
       "<polygon fill=\"black\" stroke=\"black\" points=\"938.236,-156.819 946.368,-150.027 935.775,-150.265 938.236,-156.819\"/>\n",
       "</g>\n",
       "<!-- 10 -->\n",
       "<g id=\"node11\" class=\"node\"><title>10</title>\n",
       "<path fill=\"#e58139\" stroke=\"black\" d=\"M782.43,-50C782.43,-50 659.57,-50 659.57,-50 653.57,-50 647.57,-44 647.57,-38 647.57,-38 647.57,-12 647.57,-12 647.57,-6 653.57,-0 659.57,-0 659.57,-0 782.43,-0 782.43,-0 788.43,-0 794.43,-6 794.43,-12 794.43,-12 794.43,-38 794.43,-38 794.43,-44 788.43,-50 782.43,-50\"/>\n",
       "<text text-anchor=\"start\" x=\"671.002\" y=\"-34.8\" font-family=\"Helvetica,sans-Serif\" font-size=\"14.00\">samples = 1.6%</text>\n",
       "<text text-anchor=\"start\" x=\"669.047\" y=\"-20.8\" font-family=\"Helvetica,sans-Serif\" font-size=\"14.00\">value = [1.0, 0.0]</text>\n",
       "<text text-anchor=\"start\" x=\"655.047\" y=\"-6.8\" font-family=\"Helvetica,sans-Serif\" font-size=\"14.00\">class = not malignant</text>\n",
       "</g>\n",
       "<!-- 9&#45;&gt;10 -->\n",
       "<g id=\"edge10\" class=\"edge\"><title>9&#45;&gt;10</title>\n",
       "<path fill=\"none\" stroke=\"black\" d=\"M751.957,-85.9375C747.504,-77.3164 742.653,-67.9239 738.14,-59.1865\"/>\n",
       "<polygon fill=\"black\" stroke=\"black\" points=\"741.11,-57.3089 733.411,-50.0301 734.89,-60.5211 741.11,-57.3089\"/>\n",
       "</g>\n",
       "<!-- 11 -->\n",
       "<g id=\"node12\" class=\"node\"><title>11</title>\n",
       "<path fill=\"#399de5\" stroke=\"black\" d=\"M924.917,-50C924.917,-50 825.083,-50 825.083,-50 819.083,-50 813.083,-44 813.083,-38 813.083,-38 813.083,-12 813.083,-12 813.083,-6 819.083,-0 825.083,-0 825.083,-0 924.917,-0 924.917,-0 930.917,-0 936.917,-6 936.917,-12 936.917,-12 936.917,-38 936.917,-38 936.917,-44 930.917,-50 924.917,-50\"/>\n",
       "<text text-anchor=\"start\" x=\"825.002\" y=\"-34.8\" font-family=\"Helvetica,sans-Serif\" font-size=\"14.00\">samples = 1.4%</text>\n",
       "<text text-anchor=\"start\" x=\"823.047\" y=\"-20.8\" font-family=\"Helvetica,sans-Serif\" font-size=\"14.00\">value = [0.0, 1.0]</text>\n",
       "<text text-anchor=\"start\" x=\"820.723\" y=\"-6.8\" font-family=\"Helvetica,sans-Serif\" font-size=\"14.00\">class = malignant</text>\n",
       "</g>\n",
       "<!-- 9&#45;&gt;11 -->\n",
       "<g id=\"edge11\" class=\"edge\"><title>9&#45;&gt;11</title>\n",
       "<path fill=\"none\" stroke=\"black\" d=\"M804.524,-85.9375C815.631,-76.491 827.828,-66.1182 838.907,-56.6961\"/>\n",
       "<polygon fill=\"black\" stroke=\"black\" points=\"841.395,-59.1748 846.745,-50.0301 836.86,-53.8425 841.395,-59.1748\"/>\n",
       "</g>\n",
       "<!-- 13 -->\n",
       "<g id=\"node14\" class=\"node\"><title>13</title>\n",
       "<path fill=\"#e58139\" stroke=\"black\" d=\"M1090.43,-50C1090.43,-50 967.57,-50 967.57,-50 961.57,-50 955.57,-44 955.57,-38 955.57,-38 955.57,-12 955.57,-12 955.57,-6 961.57,-0 967.57,-0 967.57,-0 1090.43,-0 1090.43,-0 1096.43,-0 1102.43,-6 1102.43,-12 1102.43,-12 1102.43,-38 1102.43,-38 1102.43,-44 1096.43,-50 1090.43,-50\"/>\n",
       "<text text-anchor=\"start\" x=\"979.002\" y=\"-34.8\" font-family=\"Helvetica,sans-Serif\" font-size=\"14.00\">samples = 0.2%</text>\n",
       "<text text-anchor=\"start\" x=\"977.047\" y=\"-20.8\" font-family=\"Helvetica,sans-Serif\" font-size=\"14.00\">value = [1.0, 0.0]</text>\n",
       "<text text-anchor=\"start\" x=\"963.047\" y=\"-6.8\" font-family=\"Helvetica,sans-Serif\" font-size=\"14.00\">class = not malignant</text>\n",
       "</g>\n",
       "<!-- 12&#45;&gt;13 -->\n",
       "<g id=\"edge13\" class=\"edge\"><title>12&#45;&gt;13</title>\n",
       "<path fill=\"none\" stroke=\"black\" d=\"M1029,-85.9375C1029,-77.6833 1029,-68.7219 1029,-60.3053\"/>\n",
       "<polygon fill=\"black\" stroke=\"black\" points=\"1032.5,-60.03 1029,-50.0301 1025.5,-60.0301 1032.5,-60.03\"/>\n",
       "</g>\n",
       "<!-- 14 -->\n",
       "<g id=\"node15\" class=\"node\"><title>14</title>\n",
       "<path fill=\"#399de5\" fill-opacity=\"0.996078\" stroke=\"black\" d=\"M1259.29,-50C1259.29,-50 1132.71,-50 1132.71,-50 1126.71,-50 1120.71,-44 1120.71,-38 1120.71,-38 1120.71,-12 1120.71,-12 1120.71,-6 1126.71,-0 1132.71,-0 1132.71,-0 1259.29,-0 1259.29,-0 1265.29,-0 1271.29,-6 1271.29,-12 1271.29,-12 1271.29,-38 1271.29,-38 1271.29,-44 1265.29,-50 1259.29,-50\"/>\n",
       "<text text-anchor=\"start\" x=\"1142.11\" y=\"-34.8\" font-family=\"Helvetica,sans-Serif\" font-size=\"14.00\">samples = 30.2%</text>\n",
       "<text text-anchor=\"start\" x=\"1128.47\" y=\"-20.8\" font-family=\"Helvetica,sans-Serif\" font-size=\"14.00\">value = [0.006, 0.994]</text>\n",
       "<text text-anchor=\"start\" x=\"1141.72\" y=\"-6.8\" font-family=\"Helvetica,sans-Serif\" font-size=\"14.00\">class = malignant</text>\n",
       "</g>\n",
       "<!-- 12&#45;&gt;14 -->\n",
       "<g id=\"edge14\" class=\"edge\"><title>12&#45;&gt;14</title>\n",
       "<path fill=\"none\" stroke=\"black\" d=\"M1086,-85.9375C1104.35,-75.9407 1124.6,-64.9066 1142.67,-55.0595\"/>\n",
       "<polygon fill=\"black\" stroke=\"black\" points=\"1144.79,-57.8883 1151.9,-50.0301 1141.45,-51.7416 1144.79,-57.8883\"/>\n",
       "</g>\n",
       "</g>\n",
       "</svg>\n"
      ],
      "text/plain": [
       "<graphviz.files.Source at 0x10f8ab0f0>"
      ]
     },
     "execution_count": 19,
     "metadata": {},
     "output_type": "execute_result"
    }
   ],
   "source": [
    "graph = graphviz.Source(dot_data)  \n",
    "graph "
   ]
  },
  {
   "cell_type": "markdown",
   "metadata": {
    "slideshow": {
     "slide_type": "slide"
    }
   },
   "source": [
    "## 의사 결정 나무 (Decision Tree) 요약\n",
    "\n",
    "장점\n",
    "\n",
    "* 설명하기 쉽다. 심지어 선형 회귀보다도 설명하기 쉽다.\n",
    "* 사람이 의사 결정하는 방식을 잘 표현한다.\n",
    "* 나무를 그려볼 수 있다.\n",
    "* 질적 변수(카테고리 변수)를 더미화하지 않고도 자연스럽게 다룰 수 있다.\n",
    "\n",
    "단점\n",
    "\n",
    "* 의사 결정 나무는 보통 다른 회귀나 분류 모델에 비해서 정확도가 떨어진다."
   ]
  }
 ],
 "metadata": {
  "anaconda-cloud": {},
  "celltoolbar": "Slideshow",
  "kernelspec": {
   "display_name": "Python [conda env:jupyterlab2]",
   "language": "python",
   "name": "conda-env-jupyterlab2-py"
  },
  "language_info": {
   "codemirror_mode": {
    "name": "ipython",
    "version": 3
   },
   "file_extension": ".py",
   "mimetype": "text/x-python",
   "name": "python",
   "nbconvert_exporter": "python",
   "pygments_lexer": "ipython3",
   "version": "3.6.3"
  }
 },
 "nbformat": 4,
 "nbformat_minor": 1
}
