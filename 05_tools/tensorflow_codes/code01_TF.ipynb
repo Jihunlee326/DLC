{
 "cells": [
  {
   "cell_type": "markdown",
   "metadata": {},
   "source": [
    "# TensorFlow 기본 구조 이해"
   ]
  },
  {
   "cell_type": "code",
   "execution_count": null,
   "metadata": {},
   "outputs": [],
   "source": [
    "import tensorflow as tf\n",
    "print(tf.__version__)"
   ]
  },
  {
   "cell_type": "markdown",
   "metadata": {},
   "source": [
    "### 그래프 생성\n",
    "\n",
    "* 변수를 생성하고 계산을 한다는 것은 그래프를 만드는 과정\n",
    "* `a`를 출력하면 **계산된 값**이 나오지 않음"
   ]
  },
  {
   "cell_type": "code",
   "execution_count": null,
   "metadata": {},
   "outputs": [],
   "source": [
    "a = tf.add(3, 5)"
   ]
  },
  {
   "cell_type": "code",
   "execution_count": null,
   "metadata": {},
   "outputs": [],
   "source": [
    "print(a)"
   ]
  },
  {
   "cell_type": "markdown",
   "metadata": {},
   "source": [
    "### Session 실행\n",
    "\n",
    "* 위의 과정은 그래프 형태만 만들어놓음\n",
    "* 실제 계산은 `tf.Session()`을 실행하여 계산함\n",
    "* 마치 파이프에 물(데이터)을 흘려보내는 것과 비슷함\n",
    "* `tf.Session()`을 열면 TF default로 GPU 메모리를 다 잡아버림\n",
    "  * 그것을 방지하기 위해 `gpu_options`을 다음과 같이 준다\n",
    "* GPU 사용량 확인하는 명령어\n",
    "  * `nvidia-smi`\n",
    "  * `watch`라는 명령어와 함께 쓰면 계속 갱신하면서 메모리 변화를 볼 수 있음\n",
    "    * `watch -n 1 nvidia-smi`"
   ]
  },
  {
   "cell_type": "code",
   "execution_count": null,
   "metadata": {},
   "outputs": [],
   "source": [
    "sess_config = tf.ConfigProto(gpu_options=tf.GPUOptions(allow_growth=True))\n",
    "#sess = tf.Session()\n",
    "sess = tf.Session(config=sess_config)\n",
    "print(sess.run(a))\n",
    "sess.close()"
   ]
  },
  {
   "cell_type": "markdown",
   "metadata": {},
   "source": [
    "### `Session`을 `with` 구문으로\n",
    "\n",
    "* `session`을 열면 `sess.close()`로 명시적으로 닫아줘야 한다.\n",
    "* `with` 구문이 끝나면 알아서 `session`이 닫힌다."
   ]
  },
  {
   "cell_type": "code",
   "execution_count": null,
   "metadata": {},
   "outputs": [],
   "source": [
    "with tf.Session(config=sess_config) as sess:\n",
    "  print(sess.run(a))"
   ]
  },
  {
   "cell_type": "markdown",
   "metadata": {},
   "source": [
    "### `sess.run()`대신 `eval()`을 쓸 수 있다"
   ]
  },
  {
   "cell_type": "code",
   "execution_count": null,
   "metadata": {},
   "outputs": [],
   "source": [
    "with tf.Session(config=sess_config) as sess:\n",
    "  print(a.eval())"
   ]
  },
  {
   "cell_type": "markdown",
   "metadata": {},
   "source": [
    "### `tf.InteractiveSession()`"
   ]
  },
  {
   "cell_type": "code",
   "execution_count": null,
   "metadata": {},
   "outputs": [],
   "source": [
    "#sess = tf.Session(config=sess_config)\n",
    "sess = tf.InteractiveSession(config=sess_config)\n",
    "print(a.eval())\n",
    "sess.close()"
   ]
  },
  {
   "cell_type": "markdown",
   "metadata": {},
   "source": [
    "### 약간 더 복잡한 계산"
   ]
  },
  {
   "cell_type": "code",
   "execution_count": null,
   "metadata": {},
   "outputs": [],
   "source": [
    "x = 2\n",
    "y = 3\n",
    "w = tf.add(x, y)\n",
    "z = tf.multiply(x, y)\n",
    "p = tf.pow(z, w)\n",
    "with tf.Session(config=sess_config) as sess:\n",
    "  print(sess.run(p))"
   ]
  },
  {
   "cell_type": "markdown",
   "metadata": {},
   "source": [
    "### `Tensor`변수와 일반 `python` 변수"
   ]
  },
  {
   "cell_type": "code",
   "execution_count": null,
   "metadata": {},
   "outputs": [],
   "source": [
    "import numpy as np\n",
    "\n",
    "x = 2\n",
    "y = 3\n",
    "w = x + y\n",
    "z = x * y\n",
    "p = np.power(z, w)\n",
    "with tf.Session(config=sess_config) as sess:\n",
    "  print(sess.run(p)) # p는 sess.run()에 넣는 Tensor가 아니고 일반 python 변수이기 때문에 에러가 난다"
   ]
  },
  {
   "cell_type": "code",
   "execution_count": null,
   "metadata": {},
   "outputs": [],
   "source": [
    "x = tf.constant(2)\n",
    "y = tf.constant(3)\n",
    "w = x + y\n",
    "z = x * y\n",
    "p = tf.pow(z, w)\n",
    "with tf.Session(config=sess_config) as sess:\n",
    "  print(sess.run(p))"
   ]
  }
 ],
 "metadata": {
  "kernelspec": {
   "display_name": "Python 3",
   "language": "python",
   "name": "python3"
  },
  "language_info": {
   "codemirror_mode": {
    "name": "ipython",
    "version": 3
   },
   "file_extension": ".py",
   "mimetype": "text/x-python",
   "name": "python",
   "nbconvert_exporter": "python",
   "pygments_lexer": "ipython3",
   "version": "3.6.2"
  }
 },
 "nbformat": 4,
 "nbformat_minor": 2
}
