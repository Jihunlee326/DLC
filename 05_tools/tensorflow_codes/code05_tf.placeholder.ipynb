{
 "cells": [
  {
   "cell_type": "markdown",
   "metadata": {},
   "source": [
    "# tf.placeholder\n",
    "\n",
    "* `tf.Session()` 을 실행 할 때 외부에서 값을 넣어줌\n",
    "* 학습데이터 또는 추론(inference) 할 때의 개별 데이터처럼 그래프 외부에서 값을 넣어주는 형태로 만들 필요가 있을 때 유용함"
   ]
  },
  {
   "cell_type": "code",
   "execution_count": null,
   "metadata": {},
   "outputs": [],
   "source": [
    "import tensorflow as tf\n",
    "\n",
    "sess_config = tf.ConfigProto(gpu_options=tf.GPUOptions(allow_growth=True))\n",
    "\n",
    "tf.set_random_seed(219)"
   ]
  },
  {
   "cell_type": "markdown",
   "metadata": {},
   "source": [
    "### `tf.placeholder`\n",
    "\n",
    "* `tf.Session()`을 열어서 실행할 때 값을 넣어줘야 한다.\n",
    "* 아래 예제처럼 그냥 Session을 실행하면 error가 생긴다."
   ]
  },
  {
   "cell_type": "code",
   "execution_count": null,
   "metadata": {},
   "outputs": [],
   "source": [
    "# create a placeholder\n",
    "a = tf.placeholder(tf.float32, shape=[3])\n",
    "\n",
    "# create a constant of type\n",
    "b = tf.constant([5, 5, 5], tf.float32)\n",
    "\n",
    "# use the placeholder as you would a constant or a variable\n",
    "c = a + b  # Short for tf.add(a, b)\n",
    "\n",
    "with tf.Session(config=sess_config) as sess:\n",
    "  print(sess.run(c)) # Error because a doesn’t have any"
   ]
  },
  {
   "cell_type": "markdown",
   "metadata": {},
   "source": [
    "### `tf.placeholder` 올바른 예제\n",
    "\n",
    "* `sess.run`할 때 `feed_dict`이라는 인자를 사용하여 placeholder `a`의 실제 값을 넣어준다."
   ]
  },
  {
   "cell_type": "code",
   "execution_count": null,
   "metadata": {},
   "outputs": [],
   "source": [
    "# create a placeholder\n",
    "a = tf.placeholder(tf.float32, shape=[3])\n",
    "\n",
    "# create a constant of type\n",
    "b = tf.constant([5, 5, 5], tf.float32)\n",
    "\n",
    "# use the placeholder as you would a constant or a variable\n",
    "c = a + b  # Short for tf.add(a, b)\n",
    "\n",
    "with tf.Session(config=sess_config) as sess:\n",
    "  print(sess.run(c, feed_dict={a: [1, 2, 3]}))"
   ]
  },
  {
   "cell_type": "markdown",
   "metadata": {},
   "source": [
    "### Normal Loading"
   ]
  },
  {
   "cell_type": "code",
   "execution_count": null,
   "metadata": {},
   "outputs": [],
   "source": [
    "# Only necessary if you use IDLE or a jupyter notebook\n",
    "tf.reset_default_graph()\n",
    "\n",
    "x = tf.Variable(10, name='x')\n",
    "y = tf.Variable(20, name='y')\n",
    "z = tf.add(x, y) # you create the node for add node before executing the graph\n",
    "\n",
    "with tf.Session(config=sess_config) as sess:\n",
    "  sess.run(tf.global_variables_initializer())\n",
    "  writer = tf.summary.FileWriter('./graphs/code05_normal', sess.graph)\n",
    "  for _ in range(10):\n",
    "    print(sess.run(z))\n",
    "  writer.close()\n",
    "  print('\\n')\n",
    "\n",
    "  for node in tf.get_default_graph().as_graph_def().node:\n",
    "    print(node.name)"
   ]
  },
  {
   "cell_type": "markdown",
   "metadata": {},
   "source": [
    "### Lazy Loading"
   ]
  },
  {
   "cell_type": "code",
   "execution_count": null,
   "metadata": {},
   "outputs": [],
   "source": [
    "# Only necessary if you use IDLE or a jupyter notebook\n",
    "tf.reset_default_graph()\n",
    "\n",
    "x = tf.Variable(10, name='x')\n",
    "y = tf.Variable(20, name='y')\n",
    "\n",
    "with tf.Session(config=sess_config) as sess:\n",
    "  sess.run(tf.global_variables_initializer())\n",
    "  writer = tf.summary.FileWriter('./graphs/code05_lazy', sess.graph)\n",
    "  for _ in range(10):\n",
    "    print(sess.run(tf.add(x, y)))\n",
    "  writer.close()\n",
    "  print('\\n')\n",
    "  \n",
    "  for node in tf.get_default_graph().as_graph_def().node:\n",
    "    print(node.name)"
   ]
  },
  {
   "cell_type": "markdown",
   "metadata": {},
   "source": [
    "## 직접 실습"
   ]
  },
  {
   "cell_type": "markdown",
   "metadata": {},
   "source": [
    "### tf.Variable, tf.placeholder를 이용하여 linear operator + relu 만들기\n",
    "\n",
    "```\n",
    "w = tf.Variable() >> 2\n",
    "b = tf.Variable() >> -3\n",
    "x = tf.placeholder() >> np.random.normal\n",
    "z = w * x + b\n",
    "a = relu(z)\n",
    "```\n",
    "\n",
    "### summary를 이용하여 graph도 저장하고 tensorboard로 확인하기"
   ]
  },
  {
   "cell_type": "code",
   "execution_count": null,
   "metadata": {},
   "outputs": [],
   "source": [
    "import numpy as np\n",
    "\n",
    "np.random.seed(219)\n",
    "\n",
    "# Only necessary if you use IDLE or a jupyter notebook\n",
    "tf.reset_default_graph()\n",
    "\n",
    "# TODO\n",
    "w = tf.Variable(2., name='w')\n",
    "b = tf.Variable(-3., name='b')\n",
    "x = tf.placeholder(tf.float32, shape=[1], name='x')\n",
    "z = w * x + b\n",
    "a = tf.maximum(z, 0)\n",
    "#a = tf.nn.relu(z)\n",
    "print(w)\n",
    "print(b)\n",
    "print(x)\n",
    "print(z)\n",
    "print(a)\n",
    "\n",
    "with tf.Session(config=sess_config) as sess:\n",
    "  sess.run(tf.global_variables_initializer())\n",
    "  writer = tf.summary.FileWriter('./graphs/code05_linear', sess.graph)\n",
    "  rnd = np.random.normal([1])\n",
    "  print(sess.run([z, a], feed_dict={x: rnd}))\n",
    "writer.close() # close the writer when you’re done using it"
   ]
  },
  {
   "cell_type": "markdown",
   "metadata": {},
   "source": [
    "##### output\n",
    "```\n",
    "<tf.Variable 'w:0' shape=() dtype=float32_ref>\n",
    "<tf.Variable 'b:0' shape=() dtype=float32_ref>\n",
    "Tensor(\"x:0\", shape=(1,), dtype=float32)\n",
    "Tensor(\"add:0\", shape=(1,), dtype=float32)\n",
    "Tensor(\"Maximum:0\", shape=(1,), dtype=float32)\n",
    "[array([-2.1427393], dtype=float32), array([ 0.], dtype=float32)]\n",
    "```"
   ]
  },
  {
   "cell_type": "code",
   "execution_count": null,
   "metadata": {},
   "outputs": [],
   "source": []
  }
 ],
 "metadata": {
  "kernelspec": {
   "display_name": "Python 3",
   "language": "python",
   "name": "python3"
  },
  "language_info": {
   "codemirror_mode": {
    "name": "ipython",
    "version": 3
   },
   "file_extension": ".py",
   "mimetype": "text/x-python",
   "name": "python",
   "nbconvert_exporter": "python",
   "pygments_lexer": "ipython3",
   "version": "3.6.2"
  }
 },
 "nbformat": 4,
 "nbformat_minor": 2
}
